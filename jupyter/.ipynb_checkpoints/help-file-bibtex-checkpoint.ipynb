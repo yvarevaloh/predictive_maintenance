{
 "cells": [
  {
   "cell_type": "markdown",
   "metadata": {
    "slideshow": {
     "slide_type": "slide"
    }
   },
   "source": [
    "<h1 align=center> BibTeX in Jupyter<h1>\n",
    "<h4 align=center> How to include a bibliography?</h4>\n",
    "<br>\n",
    "<img align=left src=\"https://raw.githubusercontent.com/jupyter/nature-demo/master/images/jupyter-logo.png\" width=\"350px\" style=\"margin-left: 100px;\"> \n",
    "<img align=right src=\"https://upload.wikimedia.org/wikipedia/commons/3/30/BibTeX_logo.svg\" width=\"350px\" style=\"margin-right: 100px;\">"
   ]
  },
  {
   "cell_type": "markdown",
   "metadata": {
    "slideshow": {
     "slide_type": "slide"
    }
   },
   "source": [
    "# Install $\\LaTeX$ and BibTeX\n",
    "```bash\n",
    "sudo apt-get install texlive-latex-extra\n",
    "sudo apt-get install texlive-bibtex-extra\n",
    "```"
   ]
  },
  {
   "cell_type": "markdown",
   "metadata": {
    "slideshow": {
     "slide_type": "slide"
    }
   },
   "source": [
    "# What we need?\n",
    "- A Jupyter file (.ipynb)\n",
    "- A BibTeX file (.bib)\n",
    "- A template file (.tplex)"
   ]
  },
  {
   "cell_type": "code",
   "execution_count": null,
   "metadata": {
    "slideshow": {
     "slide_type": "slide"
    }
   },
   "outputs": [],
   "source": [
    "%%bash\n",
    "ipython nbconvert --to latex --template citations.tplx version2_presentation.ipynb\n",
    "pdflatex version2_presentation.tex\n",
    "bibtex version2_presentation\n",
    "pdflatex version2_presentation.tex"
   ]
  },
  {
   "cell_type": "code",
   "execution_count": 10,
   "metadata": {
    "slideshow": {
     "slide_type": "skip"
    }
   },
   "outputs": [
    {
     "name": "stdout",
     "output_type": "stream",
     "text": [
      "This application is used to convert notebook files (*.ipynb) to various other\r\n",
      "formats.\r\n",
      "\r\n",
      "WARNING: THE COMMANDLINE INTERFACE MAY CHANGE IN FUTURE RELEASES.\r\n",
      "\r\n",
      "Options\r",
      "\r\n",
      "-------\r",
      "\r\n",
      "\r",
      "\r\n",
      "Arguments that take values are actually convenience aliases to full\r\n",
      "Configurables, whose aliases are listed on the help line. For more information\r\n",
      "on full configurables, see '--help-all'.\r",
      "\r\n",
      "\r\n",
      "--debug\r",
      "\r\n",
      "    set log level to logging.DEBUG (maximize logging output)\r",
      "\r\n",
      "--generate-config\r",
      "\r\n",
      "    generate default config file\r",
      "\r\n",
      "-y\r",
      "\r\n",
      "    Answer yes to any questions instead of prompting.\r",
      "\r\n",
      "--execute\r",
      "\r\n",
      "    Execute the notebook prior to export.\r",
      "\r\n",
      "--allow-errors\r",
      "\r\n",
      "    Continue notebook execution even if one of the cells throws an error and include the error message in the cell output (the default behaviour is to abort conversion). This flag is only relevant if '--execute' was specified, too.\r",
      "\r\n",
      "--stdin\r",
      "\r\n",
      "    read a single notebook file from stdin. Write the resulting notebook with default basename 'notebook.*'\r",
      "\r\n",
      "--stdout\r",
      "\r\n",
      "    Write notebook output to stdout instead of files.\r",
      "\r\n",
      "--inplace\r",
      "\r\n",
      "    Run nbconvert in place, overwriting the existing notebook (only \r\n",
      "    relevant when converting to notebook format)\r",
      "\r\n",
      "--clear-output\r",
      "\r\n",
      "    Clear output of current file and save in place, \r\n",
      "    overwriting the existing notebook.\r",
      "\r\n",
      "--no-prompt\r",
      "\r\n",
      "    Exclude input and output prompts from converted document.\r\n",
      "--log-level=<Enum> (Application.log_level)\r",
      "\r\n",
      "    Default: 30\r",
      "\r\n",
      "    Choices: (0, 10, 20, 30, 40, 50, 'DEBUG', 'INFO', 'WARN', 'ERROR', 'CRITICAL')\r",
      "\r\n",
      "    Set the log level by value or name.\r",
      "\r\n",
      "--config=<Unicode> (JupyterApp.config_file)\r",
      "\r\n",
      "    Default: ''\r",
      "\r\n",
      "    Full path of a config file.\r",
      "\r\n",
      "--to=<Unicode> (NbConvertApp.export_format)\r",
      "\r\n",
      "    Default: 'html'\r",
      "\r\n",
      "    The export format to be used, either one of the built-in formats, or a\r",
      "\r\n",
      "    dotted object name that represents the import path for an `Exporter` class\r",
      "\r\n",
      "--template=<Unicode> (TemplateExporter.template_file)\r",
      "\r\n",
      "    Default: ''\r",
      "\r\n",
      "    Name of the template file to use\r",
      "\r\n",
      "--writer=<DottedObjectName> (NbConvertApp.writer_class)\r",
      "\r\n",
      "    Default: 'FilesWriter'\r",
      "\r\n",
      "    Writer class used to write the  results of the conversion\r",
      "\r\n",
      "--post=<DottedOrNone> (NbConvertApp.postprocessor_class)\r",
      "\r\n",
      "    Default: ''\r",
      "\r\n",
      "    PostProcessor class used to write the results of the conversion\r",
      "\r\n",
      "--output=<Unicode> (NbConvertApp.output_base)\r",
      "\r\n",
      "    Default: ''\r",
      "\r\n",
      "    overwrite base name use for output files. can only be used when converting\r",
      "\r\n",
      "    one notebook at a time.\r",
      "\r\n",
      "--output-dir=<Unicode> (FilesWriter.build_directory)\r",
      "\r\n",
      "    Default: ''\r",
      "\r\n",
      "    Directory to write output(s) to. Defaults to output to the directory of each\r",
      "\r\n",
      "    notebook. To recover previous default behaviour (outputting to the current\r",
      "\r\n",
      "    working directory) use . as the flag value.\r",
      "\r\n",
      "--reveal-prefix=<Unicode> (SlidesExporter.reveal_url_prefix)\r",
      "\r\n",
      "    Default: ''\r",
      "\r\n",
      "    The URL prefix for reveal.js. This can be a a relative URL for a local copy\r",
      "\r\n",
      "    of reveal.js, or point to a CDN.\r",
      "\r\n",
      "    For speaker notes to work, a local reveal.js prefix must be used.\r",
      "\r\n",
      "--nbformat=<Enum> (NotebookExporter.nbformat_version)\r",
      "\r\n",
      "    Default: 4\r",
      "\r\n",
      "    Choices: [1, 2, 3, 4]\r",
      "\r\n",
      "    The nbformat version to write. Use this to downgrade notebooks.\r\n",
      "\r\n",
      "To see all available configurables, use `--help-all`\r\n",
      "\r\n",
      "Examples\r\n",
      "--------\r\n",
      "\r\n",
      "    The simplest way to use nbconvert is\r\n",
      "    \r\n",
      "    > jupyter nbconvert mynotebook.ipynb\r\n",
      "    \r\n",
      "    which will convert mynotebook.ipynb to the default format (probably HTML).\r\n",
      "    \r\n",
      "    You can specify the export format with `--to`.\r\n",
      "    Options include ['asciidoc', 'custom', 'html', 'html_ch', 'html_embed', 'html_toc', 'html_with_lenvs', 'html_with_toclenvs', 'latex', 'latex_with_lenvs', 'markdown', 'notebook', 'pdf', 'python', 'rst', 'script', 'selectLanguage', 'slides', 'slides_with_lenvs']\r\n",
      "    \r\n",
      "    > jupyter nbconvert --to latex mynotebook.ipynb\r\n",
      "    \r\n",
      "    Both HTML and LaTeX support multiple output templates. LaTeX includes\r\n",
      "    'base', 'article' and 'report'.  HTML includes 'basic' and 'full'. You\r\n",
      "    can specify the flavor of the format used.\r\n",
      "    \r\n",
      "    > jupyter nbconvert --to html --template basic mynotebook.ipynb\r\n",
      "    \r\n",
      "    You can also pipe the output to stdout, rather than a file\r\n",
      "    \r\n",
      "    > jupyter nbconvert mynotebook.ipynb --stdout\r\n",
      "    \r\n",
      "    PDF is generated via latex\r\n",
      "    \r\n",
      "    > jupyter nbconvert mynotebook.ipynb --to pdf\r\n",
      "    \r\n",
      "    You can get (and serve) a Reveal.js-powered slideshow\r\n",
      "    \r\n",
      "    > jupyter nbconvert myslides.ipynb --to slides --post serve\r\n",
      "    \r\n",
      "    Multiple notebooks can be given at the command line in a couple of \r\n",
      "    different ways:\r\n",
      "    \r\n",
      "    > jupyter nbconvert notebook*.ipynb\r\n",
      "    > jupyter nbconvert notebook1.ipynb notebook2.ipynb\r\n",
      "    \r\n",
      "    or you can specify the notebooks list in a config file, containing::\r\n",
      "    \r\n",
      "        c.NbConvertApp.notebooks = [\"my_notebook.ipynb\"]\r\n",
      "    \r\n",
      "    > jupyter nbconvert --config mycfg.py\r\n",
      "\r\n"
     ]
    },
    {
     "name": "stderr",
     "output_type": "stream",
     "text": [
      "[NbConvertApp] CRITICAL | Bad config encountered during initialization:\r\n",
      "[NbConvertApp] CRITICAL | The 'postprocessor_factory' trait of a NbConvertApp instance must be a subclass of 'builtins.object' or None, but a value of class 'module' (i.e. <module 'PyPDF2' from 'c:\\\\users\\\\vivi\\\\anaconda2\\\\envs\\\\tfp3.6\\\\lib\\\\site-packages\\\\PyPDF2\\\\__init__.py'>) was specified.\r\n"
     ]
    }
   ],
   "source": [
    "%%bash\n",
    "\n",
    "jupyter nbconvert --to latex --template citations.tplx --post PyPDF2 QuadraticEquations.ipynb"
   ]
  },
  {
   "cell_type": "markdown",
   "metadata": {
    "slideshow": {
     "slide_type": "slide"
    }
   },
   "source": [
    "### More information\n",
    "#### nbconvert\n",
    "- [Converting notebooks to other formats](https://ipython.org/ipython-doc/1/interactive/nbconvert.html)\n",
    "\n",
    "#### ipython citations tutorial\n",
    "- [Managing citations in the IPython Notebook](http://nbviewer.jupyter.org/github/ipython/nbconvert-examples/blob/master/citations/Tutorial.ipynb)"
   ]
  }
 ],
 "metadata": {
  "celltoolbar": "Slideshow",
  "kernelspec": {
   "display_name": "Python 3",
   "language": "python",
   "name": "python3"
  },
  "language_info": {
   "codemirror_mode": {
    "name": "ipython",
    "version": 3
   },
   "file_extension": ".py",
   "mimetype": "text/x-python",
   "name": "python",
   "nbconvert_exporter": "python",
   "pygments_lexer": "ipython3",
   "version": "3.6.3"
  }
 },
 "nbformat": 4,
 "nbformat_minor": 1
}
