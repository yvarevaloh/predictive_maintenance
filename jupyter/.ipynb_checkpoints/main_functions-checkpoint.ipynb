{
 "cells": [
  {
   "cell_type": "code",
   "execution_count": 6,
   "metadata": {},
   "outputs": [],
   "source": [
    "import csv\n",
    "import os\n",
    "\n",
    "def calculate_day(df):\n",
    "    dif_days=[]\n",
    "    for device in unique_device:\n",
    "        sample_data = df[df['device']==device]\n",
    "        dif_days_device = list(np.arange(0,sample_data.shape[0]))\n",
    "        dif_days=dif_days+dif_days_device\n",
    "    df['day'] = dif_days  \n",
    "\n",
    "def upload_csv(path,file):\n",
    "\n",
    "    path_file = os.path.join(path,file) \n",
    "    row_file = []\n",
    "    with open(path_file, newline='') as csvfile:\n",
    "        spamreader = csv.reader(csvfile, delimiter=',')\n",
    "        for row in spamreader:\n",
    "            row_file.append(row)\n",
    "\n",
    "    df = pd.DataFrame(row_file[1:], columns = row_file[0], dtype = float) \n",
    "    date_list = list(df['date']) \n",
    "    date_time = [datetime.strptime(j,'%Y-%m-%d') for j in date_list]\n",
    "    df['date_time']= date_time\n",
    "    df=df.sort_values(['device','date_time'])\n",
    "    unique_device = df['device'].drop_duplicates() \n",
    "\n",
    "    df=calculate_day(df)\n",
    "    path_save= os.path.join(path,'device_failure_dataframe.csv')\n",
    "\n",
    "    df.to_csv(path_save,index=False)\n"
   ]
  }
 ],
 "metadata": {
  "kernelspec": {
   "display_name": "Python 3",
   "language": "python",
   "name": "python3"
  },
  "language_info": {
   "codemirror_mode": {
    "name": "ipython",
    "version": 3
   },
   "file_extension": ".py",
   "mimetype": "text/x-python",
   "name": "python",
   "nbconvert_exporter": "python",
   "pygments_lexer": "ipython3",
   "version": "3.6.3"
  }
 },
 "nbformat": 4,
 "nbformat_minor": 2
}
