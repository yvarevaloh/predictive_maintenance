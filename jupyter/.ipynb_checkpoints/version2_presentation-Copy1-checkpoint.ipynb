{
 "cells": [
  {
   "cell_type": "code",
   "execution_count": 1,
   "metadata": {},
   "outputs": [],
   "source": [
    "from functions.main_functions import upload_csv, plot_curve_roc"
   ]
  },
  {
   "cell_type": "code",
   "execution_count": 2,
   "metadata": {},
   "outputs": [
    {
     "name": "stderr",
     "output_type": "stream",
     "text": [
      "Using TensorFlow backend.\n"
     ]
    }
   ],
   "source": [
    "import warnings, pypandoc, random\n",
    "warnings.filterwarnings(\"ignore\")\n",
    "import pandas as pd\n",
    "import numpy as np \n",
    "from datetime import datetime\n",
    "import seaborn as sns\n",
    "from xgboost import XGBClassifier\n",
    "get_ipython().run_line_magic('matplotlib', 'inline')\n",
    "from scipy import stats\n",
    "from xgboost import XGBClassifier\n",
    "from sklearn.model_selection import StratifiedKFold\n",
    "from sklearn.model_selection import RandomizedSearchCV, KFold\n",
    "from sklearn.metrics import f1_score\n",
    "from sklearn.model_selection import train_test_split\n",
    "from sklearn.model_selection import GridSearchCV\n",
    "from sklearn.model_selection import RandomizedSearchCV\n",
    "from sklearn.model_selection import ParameterGrid\n",
    "from sklearn.ensemble import RandomForestRegressor\n",
    "from sklearn.decomposition import PCA\n",
    "import xgboost as xgb\n",
    "from sklearn.metrics import mean_squared_error\n",
    "from sklearn.model_selection import cross_val_score\n",
    "from sklearn.metrics import confusion_matrix,accuracy_score\n",
    "from sklearn.ensemble import RandomForestClassifier\n",
    "from sklearn.model_selection import RepeatedStratifiedKFold\n",
    "from sklearn.model_selection import cross_val_predict\n",
    "from sklearn.feature_selection import RFE\n",
    "from sklearn.linear_model import LogisticRegression\n",
    "from collections import Counter \n",
    "from sklearn.metrics import roc_auc_score\n",
    "from sklearn.metrics import f1_score\n",
    "from sklearn.metrics import recall_score\n",
    "from sklearn.metrics import precision_score\n",
    "import matplotlib.pyplot as plt\n",
    "from sklearn import svm\n",
    "import imblearn\n",
    "from imblearn.over_sampling import SMOTE"
   ]
  },
  {
   "cell_type": "markdown",
   "metadata": {},
   "source": [
    "![LaTex: Quadratic Functions](3DTechLogo.png)"
   ]
  },
  {
   "cell_type": "markdown",
   "metadata": {},
   "source": [
    "<font size=\"3\"><div style=\"text-align: justify\"> **Predictive maintenance** has a long history. From visual inspection, which is the oldest method yet still one of the most\n",
    "powerful and widely used, predictive maintenance has evolved to automated methods that use advanced signal processing techniques\n",
    "based on pattern recognition, including neural networks,fuzzy logic, and data-driven empirical and physical modeling. Fortunately, sensors are now available to identify the onset of equipment degradations and failures. Integrating these sensors with the predictive maintenance techniques can avoid unnecessary equipment replacement, save costs, and improve process safety, availability, and efficiency  <cite data-cite=\"hashemian2010state\">(hashemian, 2010).</cite> </div></font>\n",
    "\n",
    "<font size=\"3\"><div style=\"text-align: justify\">AWS has a machine learning solution for Predictive Maintenance challenge, click this link for more information [AWS predictive maintenace](https://aws.amazon.com/es/about-aws/whats-new/2019/07/introducing-predictive-maintenance-using-machine-learning/).</div></font>"
   ]
  },
  {
   "cell_type": "markdown",
   "metadata": {},
   "source": [
    "# Data\n",
    "\n",
    "<font size=\"3\"><div style=\"text-align: justify\">The database has 124494 rows, there is a total of 1169 unique devices of which 106 have had failure. The data has the daily report date, the failure/ non-failure column, recorded as 0 or 1, and 9 attributes related to the device. The information belongs to the period between 2015-01-01 and 2015-11-02. Additionally, the number of days from the first-day report is also included as a feature. </div></font>"
   ]
  },
  {
   "cell_type": "markdown",
   "metadata": {},
   "source": [
    "<font size=\"3\"><div style=\"text-align: justify\"> </div></font>\n",
    "![LaTex: Q](summay_data.png)"
   ]
  },
  {
   "cell_type": "code",
   "execution_count": 3,
   "metadata": {},
   "outputs": [],
   "source": [
    "path = 'C:\\\\Users\\\\vivi\\\\Documents\\\\AWS\\\\proyect\\\\data\\\\'\n",
    "file = 'device_failure.csv'\n",
    "df = upload_csv(path, file)"
   ]
  },
  {
   "cell_type": "code",
   "execution_count": 4,
   "metadata": {},
   "outputs": [
    {
     "name": "stdout",
     "output_type": "stream",
     "text": [
      "(124494, 14)\n"
     ]
    },
    {
     "data": {
      "text/html": [
       "<div>\n",
       "<style scoped>\n",
       "    .dataframe tbody tr th:only-of-type {\n",
       "        vertical-align: middle;\n",
       "    }\n",
       "\n",
       "    .dataframe tbody tr th {\n",
       "        vertical-align: top;\n",
       "    }\n",
       "\n",
       "    .dataframe thead th {\n",
       "        text-align: right;\n",
       "    }\n",
       "</style>\n",
       "<table border=\"1\" class=\"dataframe\">\n",
       "  <thead>\n",
       "    <tr style=\"text-align: right;\">\n",
       "      <th></th>\n",
       "      <th>date</th>\n",
       "      <th>device</th>\n",
       "      <th>failure</th>\n",
       "      <th>attribute1</th>\n",
       "      <th>attribute2</th>\n",
       "      <th>attribute3</th>\n",
       "      <th>attribute4</th>\n",
       "      <th>attribute5</th>\n",
       "      <th>attribute6</th>\n",
       "      <th>attribute7</th>\n",
       "      <th>attribute8</th>\n",
       "      <th>attribute9</th>\n",
       "      <th>date_time</th>\n",
       "      <th>day</th>\n",
       "    </tr>\n",
       "  </thead>\n",
       "  <tbody>\n",
       "    <tr>\n",
       "      <th>0</th>\n",
       "      <td>2015-01-01</td>\n",
       "      <td>S1F01085</td>\n",
       "      <td>0.0</td>\n",
       "      <td>215630672.0</td>\n",
       "      <td>56.0</td>\n",
       "      <td>0.0</td>\n",
       "      <td>52.0</td>\n",
       "      <td>6.0</td>\n",
       "      <td>407438.0</td>\n",
       "      <td>0.0</td>\n",
       "      <td>0.0</td>\n",
       "      <td>7.0</td>\n",
       "      <td>2015-01-01</td>\n",
       "      <td>0</td>\n",
       "    </tr>\n",
       "    <tr>\n",
       "      <th>1163</th>\n",
       "      <td>2015-01-02</td>\n",
       "      <td>S1F01085</td>\n",
       "      <td>0.0</td>\n",
       "      <td>1650864.0</td>\n",
       "      <td>56.0</td>\n",
       "      <td>0.0</td>\n",
       "      <td>52.0</td>\n",
       "      <td>6.0</td>\n",
       "      <td>407438.0</td>\n",
       "      <td>0.0</td>\n",
       "      <td>0.0</td>\n",
       "      <td>7.0</td>\n",
       "      <td>2015-01-02</td>\n",
       "      <td>1</td>\n",
       "    </tr>\n",
       "    <tr>\n",
       "      <th>2326</th>\n",
       "      <td>2015-01-03</td>\n",
       "      <td>S1F01085</td>\n",
       "      <td>0.0</td>\n",
       "      <td>124017368.0</td>\n",
       "      <td>56.0</td>\n",
       "      <td>0.0</td>\n",
       "      <td>52.0</td>\n",
       "      <td>6.0</td>\n",
       "      <td>407438.0</td>\n",
       "      <td>0.0</td>\n",
       "      <td>0.0</td>\n",
       "      <td>7.0</td>\n",
       "      <td>2015-01-03</td>\n",
       "      <td>2</td>\n",
       "    </tr>\n",
       "    <tr>\n",
       "      <th>3489</th>\n",
       "      <td>2015-01-04</td>\n",
       "      <td>S1F01085</td>\n",
       "      <td>0.0</td>\n",
       "      <td>128073224.0</td>\n",
       "      <td>56.0</td>\n",
       "      <td>0.0</td>\n",
       "      <td>52.0</td>\n",
       "      <td>6.0</td>\n",
       "      <td>407439.0</td>\n",
       "      <td>0.0</td>\n",
       "      <td>0.0</td>\n",
       "      <td>7.0</td>\n",
       "      <td>2015-01-04</td>\n",
       "      <td>3</td>\n",
       "    </tr>\n",
       "    <tr>\n",
       "      <th>4651</th>\n",
       "      <td>2015-01-05</td>\n",
       "      <td>S1F01085</td>\n",
       "      <td>0.0</td>\n",
       "      <td>97393448.0</td>\n",
       "      <td>56.0</td>\n",
       "      <td>0.0</td>\n",
       "      <td>52.0</td>\n",
       "      <td>6.0</td>\n",
       "      <td>408114.0</td>\n",
       "      <td>0.0</td>\n",
       "      <td>0.0</td>\n",
       "      <td>7.0</td>\n",
       "      <td>2015-01-05</td>\n",
       "      <td>4</td>\n",
       "    </tr>\n",
       "  </tbody>\n",
       "</table>\n",
       "</div>"
      ],
      "text/plain": [
       "            date    device  failure   attribute1  attribute2  attribute3  \\\n",
       "0     2015-01-01  S1F01085      0.0  215630672.0        56.0         0.0   \n",
       "1163  2015-01-02  S1F01085      0.0    1650864.0        56.0         0.0   \n",
       "2326  2015-01-03  S1F01085      0.0  124017368.0        56.0         0.0   \n",
       "3489  2015-01-04  S1F01085      0.0  128073224.0        56.0         0.0   \n",
       "4651  2015-01-05  S1F01085      0.0   97393448.0        56.0         0.0   \n",
       "\n",
       "      attribute4  attribute5  attribute6  attribute7  attribute8  attribute9  \\\n",
       "0           52.0         6.0    407438.0         0.0         0.0         7.0   \n",
       "1163        52.0         6.0    407438.0         0.0         0.0         7.0   \n",
       "2326        52.0         6.0    407438.0         0.0         0.0         7.0   \n",
       "3489        52.0         6.0    407439.0         0.0         0.0         7.0   \n",
       "4651        52.0         6.0    408114.0         0.0         0.0         7.0   \n",
       "\n",
       "      date_time  day  \n",
       "0    2015-01-01    0  \n",
       "1163 2015-01-02    1  \n",
       "2326 2015-01-03    2  \n",
       "3489 2015-01-04    3  \n",
       "4651 2015-01-05    4  "
      ]
     },
     "execution_count": 4,
     "metadata": {},
     "output_type": "execute_result"
    }
   ],
   "source": [
    "print(df.shape)\n",
    "df.head()"
   ]
  },
  {
   "cell_type": "code",
   "execution_count": 5,
   "metadata": {},
   "outputs": [
    {
     "name": "stdout",
     "output_type": "stream",
     "text": [
      "Total number of unique devices: 1169\n",
      "Total number of failure: 106\n",
      "Total number of non-failure: 1063\n"
     ]
    }
   ],
   "source": [
    "device = df['device'].drop_duplicates()\n",
    "print('Total number of unique devices:',device.shape[0])\n",
    "fail_devices = list(df[df['failure']==1.0]['device'].drop_duplicates())\n",
    "print('Total number of failure:',len(fail_devices))\n",
    "no_fail_devices = list(set(list(df['device'].drop_duplicates()))-set(fail_devices))\n",
    "print('Total number of non-failure:', len(no_fail_devices))"
   ]
  },
  {
   "cell_type": "code",
   "execution_count": 6,
   "metadata": {},
   "outputs": [
    {
     "name": "stdout",
     "output_type": "stream",
     "text": [
      "Minimum date: 2015-01-01\n",
      "Maxiimum date: 2015-11-02\n"
     ]
    }
   ],
   "source": [
    "print('Minimum date:',min(df['date']))\n",
    "print('Maxiimum date:',max(df['date']))"
   ]
  },
  {
   "cell_type": "markdown",
   "metadata": {},
   "source": [
    "# Exploratory Data Analysis"
   ]
  },
  {
   "cell_type": "markdown",
   "metadata": {
    "collapsed": true
   },
   "source": [
    "<font size=\"3\"><div style=\"text-align: justify\">The descriptive statistics and the boxplots are calculated for the 9 attributes in the dataset. It can be appreciated that Attribute 1 has the highest variance and the highest mean in the data but it does not have outliers. Variables 2 to 9 have many outlier values in the distribution. There is not a visible difference in the failure/ non-failure attribute for any of the features regarded which seems to indicate that new features need to be considered to enhance the classification model, nevertheless, the interactions of the variables must be included in the model to be able to conclude this. The above will be assessed in the fitting model section.</div></font>"
   ]
  },
  {
   "cell_type": "code",
   "execution_count": 7,
   "metadata": {
    "scrolled": true
   },
   "outputs": [
    {
     "data": {
      "text/html": [
       "<div>\n",
       "<style scoped>\n",
       "    .dataframe tbody tr th:only-of-type {\n",
       "        vertical-align: middle;\n",
       "    }\n",
       "\n",
       "    .dataframe tbody tr th {\n",
       "        vertical-align: top;\n",
       "    }\n",
       "\n",
       "    .dataframe thead th {\n",
       "        text-align: right;\n",
       "    }\n",
       "</style>\n",
       "<table border=\"1\" class=\"dataframe\">\n",
       "  <thead>\n",
       "    <tr style=\"text-align: right;\">\n",
       "      <th></th>\n",
       "      <th>attribute1</th>\n",
       "      <th>attribute2</th>\n",
       "      <th>attribute3</th>\n",
       "      <th>attribute4</th>\n",
       "      <th>attribute5</th>\n",
       "      <th>attribute6</th>\n",
       "      <th>attribute7</th>\n",
       "      <th>attribute8</th>\n",
       "      <th>attribute9</th>\n",
       "      <th>day</th>\n",
       "    </tr>\n",
       "  </thead>\n",
       "  <tbody>\n",
       "    <tr>\n",
       "      <th>count</th>\n",
       "      <td>1.244940e+05</td>\n",
       "      <td>124494.000000</td>\n",
       "      <td>124494.000000</td>\n",
       "      <td>124494.000000</td>\n",
       "      <td>124494.000000</td>\n",
       "      <td>124494.000000</td>\n",
       "      <td>124494.000000</td>\n",
       "      <td>124494.000000</td>\n",
       "      <td>124494.000000</td>\n",
       "      <td>124494.000000</td>\n",
       "    </tr>\n",
       "    <tr>\n",
       "      <th>mean</th>\n",
       "      <td>1.223881e+08</td>\n",
       "      <td>159.484762</td>\n",
       "      <td>9.940455</td>\n",
       "      <td>1.741120</td>\n",
       "      <td>14.222669</td>\n",
       "      <td>260172.657726</td>\n",
       "      <td>0.292528</td>\n",
       "      <td>0.292528</td>\n",
       "      <td>12.451524</td>\n",
       "      <td>102.178675</td>\n",
       "    </tr>\n",
       "    <tr>\n",
       "      <th>std</th>\n",
       "      <td>7.045933e+07</td>\n",
       "      <td>2179.657730</td>\n",
       "      <td>185.747321</td>\n",
       "      <td>22.908507</td>\n",
       "      <td>15.943028</td>\n",
       "      <td>99151.078547</td>\n",
       "      <td>7.436924</td>\n",
       "      <td>7.436924</td>\n",
       "      <td>191.425623</td>\n",
       "      <td>77.211274</td>\n",
       "    </tr>\n",
       "    <tr>\n",
       "      <th>min</th>\n",
       "      <td>0.000000e+00</td>\n",
       "      <td>0.000000</td>\n",
       "      <td>0.000000</td>\n",
       "      <td>0.000000</td>\n",
       "      <td>1.000000</td>\n",
       "      <td>8.000000</td>\n",
       "      <td>0.000000</td>\n",
       "      <td>0.000000</td>\n",
       "      <td>0.000000</td>\n",
       "      <td>0.000000</td>\n",
       "    </tr>\n",
       "    <tr>\n",
       "      <th>25%</th>\n",
       "      <td>6.128476e+07</td>\n",
       "      <td>0.000000</td>\n",
       "      <td>0.000000</td>\n",
       "      <td>0.000000</td>\n",
       "      <td>8.000000</td>\n",
       "      <td>221452.000000</td>\n",
       "      <td>0.000000</td>\n",
       "      <td>0.000000</td>\n",
       "      <td>0.000000</td>\n",
       "      <td>37.000000</td>\n",
       "    </tr>\n",
       "    <tr>\n",
       "      <th>50%</th>\n",
       "      <td>1.227974e+08</td>\n",
       "      <td>0.000000</td>\n",
       "      <td>0.000000</td>\n",
       "      <td>0.000000</td>\n",
       "      <td>10.000000</td>\n",
       "      <td>249799.500000</td>\n",
       "      <td>0.000000</td>\n",
       "      <td>0.000000</td>\n",
       "      <td>0.000000</td>\n",
       "      <td>82.000000</td>\n",
       "    </tr>\n",
       "    <tr>\n",
       "      <th>75%</th>\n",
       "      <td>1.833096e+08</td>\n",
       "      <td>0.000000</td>\n",
       "      <td>0.000000</td>\n",
       "      <td>0.000000</td>\n",
       "      <td>12.000000</td>\n",
       "      <td>310266.000000</td>\n",
       "      <td>0.000000</td>\n",
       "      <td>0.000000</td>\n",
       "      <td>0.000000</td>\n",
       "      <td>161.000000</td>\n",
       "    </tr>\n",
       "    <tr>\n",
       "      <th>max</th>\n",
       "      <td>2.441405e+08</td>\n",
       "      <td>64968.000000</td>\n",
       "      <td>24929.000000</td>\n",
       "      <td>1666.000000</td>\n",
       "      <td>98.000000</td>\n",
       "      <td>689161.000000</td>\n",
       "      <td>832.000000</td>\n",
       "      <td>832.000000</td>\n",
       "      <td>18701.000000</td>\n",
       "      <td>303.000000</td>\n",
       "    </tr>\n",
       "  </tbody>\n",
       "</table>\n",
       "</div>"
      ],
      "text/plain": [
       "         attribute1     attribute2     attribute3     attribute4  \\\n",
       "count  1.244940e+05  124494.000000  124494.000000  124494.000000   \n",
       "mean   1.223881e+08     159.484762       9.940455       1.741120   \n",
       "std    7.045933e+07    2179.657730     185.747321      22.908507   \n",
       "min    0.000000e+00       0.000000       0.000000       0.000000   \n",
       "25%    6.128476e+07       0.000000       0.000000       0.000000   \n",
       "50%    1.227974e+08       0.000000       0.000000       0.000000   \n",
       "75%    1.833096e+08       0.000000       0.000000       0.000000   \n",
       "max    2.441405e+08   64968.000000   24929.000000    1666.000000   \n",
       "\n",
       "          attribute5     attribute6     attribute7     attribute8  \\\n",
       "count  124494.000000  124494.000000  124494.000000  124494.000000   \n",
       "mean       14.222669  260172.657726       0.292528       0.292528   \n",
       "std        15.943028   99151.078547       7.436924       7.436924   \n",
       "min         1.000000       8.000000       0.000000       0.000000   \n",
       "25%         8.000000  221452.000000       0.000000       0.000000   \n",
       "50%        10.000000  249799.500000       0.000000       0.000000   \n",
       "75%        12.000000  310266.000000       0.000000       0.000000   \n",
       "max        98.000000  689161.000000     832.000000     832.000000   \n",
       "\n",
       "          attribute9            day  \n",
       "count  124494.000000  124494.000000  \n",
       "mean       12.451524     102.178675  \n",
       "std       191.425623      77.211274  \n",
       "min         0.000000       0.000000  \n",
       "25%         0.000000      37.000000  \n",
       "50%         0.000000      82.000000  \n",
       "75%         0.000000     161.000000  \n",
       "max     18701.000000     303.000000  "
      ]
     },
     "execution_count": 7,
     "metadata": {},
     "output_type": "execute_result"
    }
   ],
   "source": [
    "varx=['attribute1','attribute2','attribute3','attribute4','attribute5','attribute6',\n",
    "        'attribute7','attribute8','attribute9','day']\n",
    "df[varx].describe()"
   ]
  },
  {
   "cell_type": "code",
   "execution_count": 8,
   "metadata": {},
   "outputs": [],
   "source": [
    "#import pandas as pd\n",
    "df2 = pd.melt(df, id_vars=['date', 'device','failure'], \n",
    "              value_vars=['attribute1','attribute2','attribute3',\n",
    "                            'attribute4','attribute5','attribute6',\n",
    "                            'attribute7','attribute8','attribute9'])"
   ]
  },
  {
   "cell_type": "code",
   "execution_count": 9,
   "metadata": {},
   "outputs": [
    {
     "data": {
      "image/png": "[encoded data removed]",
      "text/plain": [
       "<matplotlib.figure.Figure at 0x1ddf7a1fa58>"
      ]
     },
     "metadata": {
      "needs_background": "light"
     },
     "output_type": "display_data"
    }
   ],
   "source": [
    "fig = plt.figure(figsize=(18, 6))\n",
    "ax1 =fig.add_subplot(3,3,1)\n",
    "sns.boxplot(x = 'variable', y = 'value',\n",
    "                 data=df2[df2['variable'].isin(['attribute1'])], hue = 'failure',\n",
    "                 palette=\"colorblind\")\n",
    "ax2 =fig.add_subplot(3,3,2)\n",
    "sns.boxplot(x = 'variable', y = 'value', \n",
    "                 data=df2[df2['variable'].isin(['attribute2'])], hue = 'failure',\n",
    "                 palette=\"colorblind\")\n",
    "ax3 =fig.add_subplot(3,3,3)\n",
    "sns.boxplot(x = 'variable', y = 'value', \n",
    "                 data=df2[df2['variable'].isin(['attribute3'])], hue = 'failure',\n",
    "                 palette=\"colorblind\")\n",
    "\n",
    "ax4 =fig.add_subplot(3,3,4)\n",
    "sns.boxplot(x = 'variable', y = 'value', \n",
    "                 data=df2[df2['variable'].isin(['attribute4'])], hue = 'failure',\n",
    "                 palette=\"colorblind\")\n",
    "ax5 =fig.add_subplot(3,3,5)\n",
    "sns.boxplot(x = 'variable', y = 'value', \n",
    "                 data=df2[df2['variable'].isin(['attribute5'])],\n",
    "                 hue = 'failure',palette=\"colorblind\")\n",
    "ax6 =fig.add_subplot(3,3,6)\n",
    "sns.boxplot(x = 'variable', y = 'value', \n",
    "                 data=df2[df2['variable'].isin(['attribute6'])], hue = 'failure',\n",
    "                 palette=\"colorblind\")\n",
    "ax7 =fig.add_subplot(3,3,7)\n",
    "sns.boxplot(x = 'variable', y = 'value', \n",
    "                 data=df2[df2['variable'].isin(['attribute7'])], hue = 'failure',\n",
    "                 palette=\"colorblind\")\n",
    "ax8 =fig.add_subplot(3,3,8)\n",
    "sns.boxplot(x = 'variable', y = 'value', \n",
    "                 data=df2[df2['variable'].isin(['attribute8'])], hue = 'failure',\n",
    "                 palette=\"colorblind\")\n",
    "ax9 =fig.add_subplot(3,3,9)\n",
    "sns.boxplot(x = 'variable', y = 'value', \n",
    "                 data=df2[df2['variable'].isin(['attribute9'])], hue = 'failure',\n",
    "                 palette=\"colorblind\")\n",
    "plt.savefig('books_read.png')"
   ]
  },
  {
   "cell_type": "markdown",
   "metadata": {},
   "source": [
    "# Independent data sets for training and testing"
   ]
  },
  {
   "cell_type": "markdown",
   "metadata": {},
   "source": [
    "<font size=\"3\"><div style=\"text-align: justify\">\n",
    "A central assumption in machine learning (and statistics) it that of independent and identically distributed (IID) data. The readouts consist of aggregated data that have been sampled at different times. Subsequent values from any given device are highly correlated to each other. It is evenmore profound in case of cumulative values, a single event of\n",
    "abnormal value will directly affect all subsequent readouts which makes all readouts from a single device dependent.</div></font>    \n",
    "<font size=\"3\"><div style=\"text-align: justify\"> A partial way of dealing with the problem is to ensure that the test and train dataset be split on a per device basis and not randomly among all readouts. It means that if one\n",
    "or more readouts from a given device belong to the test set, no readouts from the same\n",
    "device can be used to train the classifier. The data sets for training and testing must\n",
    "contain unique, non-overlapping, sets of devices to guarantee that patterns\n",
    "that are linked to wear and usage are learned, instead of specific usage patterns for\n",
    "individual devices.<cite data-cite=\"prytz2013analysis\">(prytz,2013).</cite></div></font>\n",
    "\n",
    "<font size=\"3\"><div style=\"text-align: justify\">Regarding the unique devices, the dataset is split in training and test taking in account the failure/ no-failure dependente variable. </div></font>"
   ]
  },
  {
   "cell_type": "code",
   "execution_count": 10,
   "metadata": {},
   "outputs": [],
   "source": [
    "df=pd.read_csv('C:\\\\Users\\\\vivi\\\\Documents\\\\AWS\\\\proyect\\\\data\\\\device_failure_dataframe.csv')"
   ]
  },
  {
   "cell_type": "code",
   "execution_count": 11,
   "metadata": {},
   "outputs": [
    {
     "name": "stdout",
     "output_type": "stream",
     "text": [
      "Total number of unique devices: 1169\n",
      "Total number of failure: 106\n",
      "Total number of non-failure: 1063\n"
     ]
    }
   ],
   "source": [
    "device = df['device'].drop_duplicates()\n",
    "print('Total number of unique devices:',device.shape[0])\n",
    "fail_devices = list(df[df['failure']==1.0]['device'].drop_duplicates())\n",
    "print('Total number of failure:',len(fail_devices))\n",
    "no_fail_devices = list(set(list(df['device'].drop_duplicates()))-set(fail_devices))\n",
    "print('Total number of non-failure:', len(no_fail_devices))"
   ]
  },
  {
   "cell_type": "code",
   "execution_count": 12,
   "metadata": {},
   "outputs": [],
   "source": [
    "y_fail = list(np.repeat(1,len(fail_devices)))+list(np.repeat(0,len(no_fail_devices)))\n",
    "X_fail = fail_devices +  no_fail_devices"
   ]
  },
  {
   "cell_type": "code",
   "execution_count": 13,
   "metadata": {},
   "outputs": [],
   "source": [
    "X_trainf, X_testf, y_trainf, y_testf = train_test_split(X_fail, y_fail, test_size=0.25, random_state=42,stratify=y_fail)"
   ]
  },
  {
   "cell_type": "code",
   "execution_count": 14,
   "metadata": {},
   "outputs": [],
   "source": [
    "var = ['attribute1','attribute2','attribute3','attribute4','attribute5',\n",
    "         'attribute6','attribute7','attribute8','attribute9']\n",
    "train = df[df['device'].isin(X_trainf)]\n",
    "X_train = train[var]\n",
    "y_train = train['failure']\n",
    "\n",
    "test = df[df['device'].isin(X_testf)]\n",
    "X_test = test[var]\n",
    "y_test = test['failure']"
   ]
  },
  {
   "cell_type": "code",
   "execution_count": 15,
   "metadata": {},
   "outputs": [],
   "source": [
    "X_test.to_csv('C:\\\\Users\\\\vivi\\\\Documents\\\\AWS\\\\proyect\\\\data\\\\X_test.csv')\n",
    "y_test.to_csv('C:\\\\Users\\\\vivi\\\\Documents\\\\AWS\\\\proyect\\\\data\\\\y_test.csv')"
   ]
  },
  {
   "cell_type": "code",
   "execution_count": 16,
   "metadata": {},
   "outputs": [
    {
     "name": "stdout",
     "output_type": "stream",
     "text": [
      "Counter({0: 797, 1: 79})\n",
      "Counter({0: 266, 1: 27})\n"
     ]
    }
   ],
   "source": [
    "print(Counter(list(y_trainf)))\n",
    "print(Counter(list(y_testf)))"
   ]
  },
  {
   "cell_type": "code",
   "execution_count": 17,
   "metadata": {},
   "outputs": [
    {
     "name": "stdout",
     "output_type": "stream",
     "text": [
      "8.726415094339622\n",
      "9.116809116809117\n"
     ]
    }
   ],
   "source": [
    "print(74/(774+74)*100)\n",
    "print((32/(32+319))*100)"
   ]
  },
  {
   "cell_type": "markdown",
   "metadata": {},
   "source": [
    "# Balancing the dataset"
   ]
  },
  {
   "cell_type": "markdown",
   "metadata": {},
   "source": [
    "<font size=\"3\"><div style=\"text-align: justify\">Machine learning methods usually assume a fairly balanced data distribution when an imbalanced dataset is used to train a model the results tend to be heavily biased towards the majority class. This is the case faced here, there is a small proportion of failed devices. </div></font>\n",
    "\n",
    "<font size=\"3\"><div style=\"text-align: justify\">\n",
    "Imbalanced datasets require either learning algorithms that handle this or data preprocessingsteps that even out the imbalance.\n",
    "Upsampling and downsampling technique is a method to preproccess the data; however, there is not an agreement about the percentage should be used to have better results during the balance process. In consecuence, the Synthetic Minority Over-sampling TEchnique (SMOTE) introduced by <cite data-cite=\"chawla2002smote\">(chawla,2002).</cite>, is used. \n",
    " </div></font>\n",
    "   \n",
    "<font size=\"3\"><div style=\"text-align: justify\"> SMOTE technique identifies, for any given positive example, the k nearest neighbours belonging to the same class. It then creates new, synthetic, examples randomly placed in between the original example and the k neighbors. It uses two design parameters: number of neighbors to take into consideration (k) and the percentage of\n",
    "synthetic examples to create. The first parameter, intuitively, determines how similar new examples should be to existing ones, and the other how balanced the data should be afterward. <cite data-cite=\"prytz2013analysis\">(prytz,2013).</cite> </div></font>\n"
   ]
  },
  {
   "cell_type": "code",
   "execution_count": 18,
   "metadata": {},
   "outputs": [],
   "source": [
    "# transform the dataset\n",
    "from imblearn.over_sampling import SMOTE\n",
    "oversample = SMOTE(random_state=42)\n",
    "X_trainup, y_trainup = oversample.fit_resample(X_train, y_train)"
   ]
  },
  {
   "cell_type": "code",
   "execution_count": 19,
   "metadata": {},
   "outputs": [],
   "source": [
    "X_trainup.to_csv('C:\\\\Users\\\\vivi\\\\Documents\\\\AWS\\\\proyect\\\\data\\\\X_trainup.csv')\n",
    "y_trainup.to_csv('C:\\\\Users\\\\vivi\\\\Documents\\\\AWS\\\\proyect\\\\data\\\\y_trainup.csv')"
   ]
  },
  {
   "cell_type": "markdown",
   "metadata": {},
   "source": [
    "# Methogology "
   ]
  },
  {
   "cell_type": "markdown",
   "metadata": {},
   "source": [
    "<font size=\"3\"><div style=\"text-align: left\"> Three models are regarded in the fitting model process:</div></font>\n",
    "\n",
    "<font size=\"3\"><div style=\"text-align: left\">    \n",
    "* Random Forest\n",
    "* KNeighbors model \n",
    "* XgBoost    \n",
    "</div></font>\n",
    "\n",
    "<font size=\"3\"><div style=\"text-align: left\"> \n",
    "The model with the best performance is tunned by mean of a grid search process and the cross-validation process is used to assess this model.</div></font>  \n",
    "\n",
    "<font size=\"3\"><div style=\"text-align: left\"> \n",
    "Four metrics are calculated for each one of the models estimated: accuracy, F1-score, recall, precision. Even though, given that the goal of the analysis is to minimize false positives and false negatives, the F1 score is considered as the metric to maximize.\n",
    "</div></font>  "
   ]
  },
  {
   "cell_type": "markdown",
   "metadata": {},
   "source": [
    "## Random Forest "
   ]
  },
  {
   "cell_type": "code",
   "execution_count": 20,
   "metadata": {},
   "outputs": [
    {
     "data": {
      "text/plain": [
       "RandomForestClassifier(bootstrap=True, ccp_alpha=0.0, class_weight=None,\n",
       "                       criterion='gini', max_depth=2, max_features='auto',\n",
       "                       max_leaf_nodes=None, max_samples=None,\n",
       "                       min_impurity_decrease=0.0, min_impurity_split=None,\n",
       "                       min_samples_leaf=1, min_samples_split=2,\n",
       "                       min_weight_fraction_leaf=0.0, n_estimators=100,\n",
       "                       n_jobs=None, oob_score=False, random_state=0, verbose=0,\n",
       "                       warm_start=False)"
      ]
     },
     "execution_count": 20,
     "metadata": {},
     "output_type": "execute_result"
    }
   ],
   "source": [
    "clf = RandomForestClassifier(n_estimators=100, max_depth=2,random_state=0)\n",
    "clf.fit(X_trainup, y_trainup)\n"
   ]
  },
  {
   "cell_type": "markdown",
   "metadata": {},
   "source": [
    "### Feature importance"
   ]
  },
  {
   "cell_type": "code",
   "execution_count": 21,
   "metadata": {},
   "outputs": [
    {
     "data": {
      "text/html": [
       "<div>\n",
       "<style scoped>\n",
       "    .dataframe tbody tr th:only-of-type {\n",
       "        vertical-align: middle;\n",
       "    }\n",
       "\n",
       "    .dataframe tbody tr th {\n",
       "        vertical-align: top;\n",
       "    }\n",
       "\n",
       "    .dataframe thead th {\n",
       "        text-align: right;\n",
       "    }\n",
       "</style>\n",
       "<table border=\"1\" class=\"dataframe\">\n",
       "  <thead>\n",
       "    <tr style=\"text-align: right;\">\n",
       "      <th></th>\n",
       "      <th>var</th>\n",
       "      <th>feature_importance</th>\n",
       "    </tr>\n",
       "  </thead>\n",
       "  <tbody>\n",
       "    <tr>\n",
       "      <th>3</th>\n",
       "      <td>attribute4</td>\n",
       "      <td>0.337758</td>\n",
       "    </tr>\n",
       "    <tr>\n",
       "      <th>1</th>\n",
       "      <td>attribute2</td>\n",
       "      <td>0.287605</td>\n",
       "    </tr>\n",
       "    <tr>\n",
       "      <th>7</th>\n",
       "      <td>attribute8</td>\n",
       "      <td>0.168666</td>\n",
       "    </tr>\n",
       "    <tr>\n",
       "      <th>6</th>\n",
       "      <td>attribute7</td>\n",
       "      <td>0.164538</td>\n",
       "    </tr>\n",
       "    <tr>\n",
       "      <th>8</th>\n",
       "      <td>attribute9</td>\n",
       "      <td>0.020299</td>\n",
       "    </tr>\n",
       "    <tr>\n",
       "      <th>4</th>\n",
       "      <td>attribute5</td>\n",
       "      <td>0.013661</td>\n",
       "    </tr>\n",
       "    <tr>\n",
       "      <th>5</th>\n",
       "      <td>attribute6</td>\n",
       "      <td>0.004776</td>\n",
       "    </tr>\n",
       "    <tr>\n",
       "      <th>2</th>\n",
       "      <td>attribute3</td>\n",
       "      <td>0.001637</td>\n",
       "    </tr>\n",
       "    <tr>\n",
       "      <th>0</th>\n",
       "      <td>attribute1</td>\n",
       "      <td>0.001059</td>\n",
       "    </tr>\n",
       "  </tbody>\n",
       "</table>\n",
       "</div>"
      ],
      "text/plain": [
       "          var  feature_importance\n",
       "3  attribute4            0.337758\n",
       "1  attribute2            0.287605\n",
       "7  attribute8            0.168666\n",
       "6  attribute7            0.164538\n",
       "8  attribute9            0.020299\n",
       "4  attribute5            0.013661\n",
       "5  attribute6            0.004776\n",
       "2  attribute3            0.001637\n",
       "0  attribute1            0.001059"
      ]
     },
     "execution_count": 21,
     "metadata": {},
     "output_type": "execute_result"
    }
   ],
   "source": [
    "pd.DataFrame({'var':X_trainup.columns,'feature_importance':clf.feature_importances_}).sort_values(['feature_importance'],ascending=False)"
   ]
  },
  {
   "cell_type": "code",
   "execution_count": 22,
   "metadata": {},
   "outputs": [
    {
     "data": {
      "text/plain": [
       "array([[29433,  1865],\n",
       "       [    7,    20]], dtype=int64)"
      ]
     },
     "execution_count": 22,
     "metadata": {},
     "output_type": "execute_result"
    }
   ],
   "source": [
    "predictions=clf.predict(X_test)\n",
    "confusion_matrix(y_test, predictions)"
   ]
  },
  {
   "cell_type": "code",
   "execution_count": 23,
   "metadata": {},
   "outputs": [
    {
     "name": "stdout",
     "output_type": "stream",
     "text": [
      "Accuracy: 0.940\n",
      "AUC: 0.841\n",
      "F1-score: 0.021\n",
      "recall: 0.741\n",
      "precision: 0.011\n"
     ]
    }
   ],
   "source": [
    "accuracy = accuracy_score(y_test, predictions)\n",
    "print(\"Accuracy: %.3f\" % (accuracy))\n",
    "auc = roc_auc_score(y_test, predictions)\n",
    "print(\"AUC: %.3f\" % (auc))\n",
    "F1=f1_score(y_test, predictions)\n",
    "print(\"F1-score: %.3f\" % (F1))\n",
    "recall = recall_score(y_test, predictions)\n",
    "print(\"recall: %.3f\" % (recall))\n",
    "precision = precision_score(y_test, predictions)\n",
    "print(\"precision: %.3f\" % (precision))"
   ]
  },
  {
   "cell_type": "code",
   "execution_count": 24,
   "metadata": {},
   "outputs": [
    {
     "data": {
      "image/png": "[encoded data removed]",
      "text/plain": [
       "<matplotlib.figure.Figure at 0x1ddf6606fd0>"
      ]
     },
     "metadata": {
      "needs_background": "light"
     },
     "output_type": "display_data"
    }
   ],
   "source": [
    "plot_curve_roc(clf,X_test,y_test)"
   ]
  },
  {
   "cell_type": "markdown",
   "metadata": {},
   "source": [
    "## KNeighbors model "
   ]
  },
  {
   "cell_type": "code",
   "execution_count": 25,
   "metadata": {},
   "outputs": [
    {
     "data": {
      "text/plain": [
       "KNeighborsClassifier(algorithm='auto', leaf_size=30, metric='minkowski',\n",
       "                     metric_params=None, n_jobs=None, n_neighbors=3, p=2,\n",
       "                     weights='uniform')"
      ]
     },
     "execution_count": 25,
     "metadata": {},
     "output_type": "execute_result"
    }
   ],
   "source": [
    "from sklearn.neighbors import KNeighborsClassifier\n",
    "neigh = KNeighborsClassifier(n_neighbors=3)\n",
    "neigh.fit(X_trainup, y_trainup)"
   ]
  },
  {
   "cell_type": "code",
   "execution_count": 26,
   "metadata": {},
   "outputs": [
    {
     "data": {
      "text/plain": [
       "array([[24745,  6553],\n",
       "       [   19,     8]], dtype=int64)"
      ]
     },
     "execution_count": 26,
     "metadata": {},
     "output_type": "execute_result"
    }
   ],
   "source": [
    "predictions = neigh.predict(X_test)\n",
    "confusion_matrix(y_test, predictions)"
   ]
  },
  {
   "cell_type": "code",
   "execution_count": 27,
   "metadata": {},
   "outputs": [
    {
     "name": "stdout",
     "output_type": "stream",
     "text": [
      "Accuracy: 0.790\n",
      "AUC: 0.543\n",
      "F1-score: 0.002\n",
      "recall: 0.296\n",
      "precision: 0.001\n"
     ]
    }
   ],
   "source": [
    "accuracy = accuracy_score(y_test, predictions)\n",
    "print(\"Accuracy: %.3f\" % (accuracy ))\n",
    "auc = roc_auc_score(y_test, predictions)\n",
    "print(\"AUC: %.3f\" % (auc))\n",
    "F1=f1_score(y_test, predictions)\n",
    "print(\"F1-score: %.3f\" % (F1))\n",
    "recall = recall_score(y_test, predictions)\n",
    "print(\"recall: %.3f\" % (recall))\n",
    "precision = precision_score(y_test, predictions)\n",
    "print(\"precision: %.3f\" % (precision))"
   ]
  },
  {
   "cell_type": "code",
   "execution_count": 28,
   "metadata": {},
   "outputs": [
    {
     "data": {
      "image/png": "[encoded data removed]",
      "text/plain": [
       "<matplotlib.figure.Figure at 0x1dde6fdc0b8>"
      ]
     },
     "metadata": {
      "needs_background": "light"
     },
     "output_type": "display_data"
    }
   ],
   "source": [
    "plot_curve_roc(neigh,X_test,y_test)"
   ]
  },
  {
   "cell_type": "markdown",
   "metadata": {},
   "source": [
    "## XGBoost model"
   ]
  },
  {
   "cell_type": "code",
   "execution_count": 29,
   "metadata": {},
   "outputs": [],
   "source": [
    "model = XGBClassifier()"
   ]
  },
  {
   "cell_type": "code",
   "execution_count": 30,
   "metadata": {},
   "outputs": [
    {
     "data": {
      "text/plain": [
       "XGBClassifier(base_score=0.5, booster=None, colsample_bylevel=1,\n",
       "              colsample_bynode=1, colsample_bytree=1, gamma=0, gpu_id=-1,\n",
       "              importance_type='gain', interaction_constraints=None,\n",
       "              learning_rate=0.300000012, max_delta_step=0, max_depth=6,\n",
       "              min_child_weight=1, missing=nan, monotone_constraints=None,\n",
       "              n_estimators=100, n_jobs=0, num_parallel_tree=1,\n",
       "              objective='binary:logistic', random_state=0, reg_alpha=0,\n",
       "              reg_lambda=1, scale_pos_weight=1, subsample=1, tree_method=None,\n",
       "              validate_parameters=False, verbosity=None)"
      ]
     },
     "execution_count": 30,
     "metadata": {},
     "output_type": "execute_result"
    }
   ],
   "source": [
    "model.fit(X_trainup, y_trainup)"
   ]
  },
  {
   "cell_type": "code",
   "execution_count": 31,
   "metadata": {},
   "outputs": [],
   "source": [
    "y_pred = model.predict(X_test)\n",
    "predictions = [round(value) for value in y_pred]"
   ]
  },
  {
   "cell_type": "code",
   "execution_count": 32,
   "metadata": {},
   "outputs": [
    {
     "data": {
      "text/plain": [
       "array([[31181,   117],\n",
       "       [   21,     6]], dtype=int64)"
      ]
     },
     "execution_count": 32,
     "metadata": {},
     "output_type": "execute_result"
    }
   ],
   "source": [
    "confusion_matrix(y_test, predictions)"
   ]
  },
  {
   "cell_type": "code",
   "execution_count": 33,
   "metadata": {},
   "outputs": [
    {
     "name": "stdout",
     "output_type": "stream",
     "text": [
      "Accuracy: 0.996\n",
      "AUC: 0.609\n",
      "F1-score: 0.080\n",
      "recall: 0.222\n",
      "precision: 0.049\n"
     ]
    }
   ],
   "source": [
    "accuracy = accuracy_score(y_test, predictions)\n",
    "print(\"Accuracy: %.3f\" % (accuracy))\n",
    "auc = roc_auc_score(y_test, predictions)\n",
    "print(\"AUC: %.3f\" % (auc))\n",
    "F1=f1_score(y_test, predictions)\n",
    "print(\"F1-score: %.3f\" % (F1))\n",
    "recall = recall_score(y_test, predictions)\n",
    "print(\"recall: %.3f\" % (recall ))\n",
    "precision = precision_score(y_test, predictions)\n",
    "print(\"precision: %.3f\" % (precision))"
   ]
  },
  {
   "cell_type": "code",
   "execution_count": 34,
   "metadata": {},
   "outputs": [
    {
     "data": {
      "image/png": "[encoded data removed]",
      "text/plain": [
       "<matplotlib.figure.Figure at 0x1ddf6619630>"
      ]
     },
     "metadata": {
      "needs_background": "light"
     },
     "output_type": "display_data"
    }
   ],
   "source": [
    "plot_curve_roc(model,X_test,y_test)"
   ]
  },
  {
   "cell_type": "markdown",
   "metadata": {
    "collapsed": true
   },
   "source": [
    "# Gridsearch and Cross-validation"
   ]
  },
  {
   "cell_type": "markdown",
   "metadata": {},
   "source": [
    "<font size=\"3\"><div style=\"text-align: justify\">XGBoost model had the best performance between the considered models with a F1-score equal to 0.08, the remaining models did not have a good performance regarding the evaluation metric. However, this is not a good fitting result to use this model to predict.</div></font>  \n",
    "<font size=\"3\"><div style=\"text-align: justify\"> The cross-validation and grid search processes are often used to evaluate the dependency between the results and the sample used to fit the model and to optimize the hyperparameters in the model definition, respectively. Both techniques were executed in Sagemaker, nonetheless, given the low representativity in the minority class, there is a high variability in the cross-validation results trough the different folds. Added to this, The fitting model using the optimized parameters found in the grid search execution does not enhance the f1-score performance; it is important to bear in mind that there is cross-validation immersed in this technique.</div></font>"
   ]
  },
  {
   "cell_type": "markdown",
   "metadata": {},
   "source": [
    "## Cross-validation"
   ]
  },
  {
   "cell_type": "code",
   "execution_count": 35,
   "metadata": {},
   "outputs": [
    {
     "name": "stdout",
     "output_type": "stream",
     "text": [
      "1\n",
      "[[24451    99]\n",
      " [   17     5]]\n",
      "0.07936507936507936\n",
      "2\n",
      "[[25074   422]\n",
      " [   16     5]]\n",
      "0.022321428571428572\n",
      "3\n",
      "[[22757    36]\n",
      " [   15     6]]\n",
      "0.19047619047619047\n",
      "4\n",
      "[[26337   245]\n",
      " [   19     2]]\n",
      "0.01492537313432836\n",
      "5\n",
      "[[24918    49]\n",
      " [   18     3]]\n",
      "0.0821917808219178\n"
     ]
    }
   ],
   "source": [
    "clf_xgb = XGBClassifier(objective = 'binary:logistic')\n",
    "varx=['attribute1','attribute2','attribute3','attribute4',\n",
    "        'attribute5','attribute6','attribute7','attribute8',\n",
    "        'attribute9','day']\n",
    "\n",
    "\n",
    "numFolds = 10\n",
    "skf = StratifiedKFold(n_splits=5)\n",
    "skf.get_n_splits(X_fail, y_fail)\n",
    "\n",
    "i=0\n",
    "for train_index, test_index in skf.split(X_fail, y_fail):\n",
    "    i = i+1\n",
    "    print(i)\n",
    "    X_train, X_test = df[df['device'].isin([X_fail[j] for j in train_index])][varx], df[df['device'].isin([X_fail[j] for j in test_index])][varx]\n",
    "    y_train, y_test = df[df['device'].isin([X_fail[j] for j in train_index])]['failure'], df[df['device'].isin([X_fail[j] for j in test_index])]['failure']\n",
    "    oversample = SMOTE()\n",
    "    X_trainup, y_trainup = oversample.fit_resample(X_train, y_train)\n",
    "    clf_xgb.fit(X_trainup, y_trainup)\n",
    "    \n",
    "    y_pred = clf_xgb.predict(X_test)\n",
    "    predictions = [round(value) for value in y_pred]\n",
    "    print(confusion_matrix(y_test, predictions))\n",
    "    score1 = f1_score(y_test, predictions)\n",
    "    print(score1)  "
   ]
  },
  {
   "cell_type": "code",
   "execution_count": 40,
   "metadata": {},
   "outputs": [
    {
     "name": "stdout",
     "output_type": "stream",
     "text": [
      "Mean F1-score for cross-valiation: 0.0740\n"
     ]
    }
   ],
   "source": [
    "print(\"Mean F1-score for cross-valiation: %.4f\" % ((0.07+0.02+0.19+0.01+0.08)/5))"
   ]
  },
  {
   "cell_type": "markdown",
   "metadata": {},
   "source": [
    "## Gridsearch"
   ]
  },
  {
   "cell_type": "code",
   "execution_count": 68,
   "metadata": {},
   "outputs": [
    {
     "name": "stdout",
     "output_type": "stream",
     "text": [
      "Fitting 2 folds for each of 27 candidates, totalling 54 fits\n",
      "[CV] learning_rate=0.2, max_depth=5, n_estimators=100 ................\n"
     ]
    },
    {
     "name": "stderr",
     "output_type": "stream",
     "text": [
      "[Parallel(n_jobs=1)]: Using backend SequentialBackend with 1 concurrent workers.\n"
     ]
    },
    {
     "name": "stdout",
     "output_type": "stream",
     "text": [
      "[CV]  learning_rate=0.2, max_depth=5, n_estimators=100, score=0.987, total=  13.1s\n",
      "[CV] learning_rate=0.2, max_depth=5, n_estimators=100 ................\n"
     ]
    },
    {
     "name": "stderr",
     "output_type": "stream",
     "text": [
      "[Parallel(n_jobs=1)]: Done   1 out of   1 | elapsed:   13.0s remaining:    0.0s\n"
     ]
    },
    {
     "name": "stdout",
     "output_type": "stream",
     "text": [
      "[CV]  learning_rate=0.2, max_depth=5, n_estimators=100, score=0.956, total=  12.9s\n",
      "[CV] learning_rate=0.2, max_depth=5, n_estimators=200 ................\n"
     ]
    },
    {
     "name": "stderr",
     "output_type": "stream",
     "text": [
      "[Parallel(n_jobs=1)]: Done   2 out of   2 | elapsed:   25.9s remaining:    0.0s\n"
     ]
    },
    {
     "name": "stdout",
     "output_type": "stream",
     "text": [
      "[CV]  learning_rate=0.2, max_depth=5, n_estimators=200, score=0.990, total=  24.1s\n",
      "[CV] learning_rate=0.2, max_depth=5, n_estimators=200 ................\n"
     ]
    },
    {
     "name": "stderr",
     "output_type": "stream",
     "text": [
      "[Parallel(n_jobs=1)]: Done   3 out of   3 | elapsed:   50.0s remaining:    0.0s\n"
     ]
    },
    {
     "name": "stdout",
     "output_type": "stream",
     "text": [
      "[CV]  learning_rate=0.2, max_depth=5, n_estimators=200, score=0.962, total=  24.7s\n",
      "[CV] learning_rate=0.2, max_depth=5, n_estimators=300 ................\n"
     ]
    },
    {
     "name": "stderr",
     "output_type": "stream",
     "text": [
      "[Parallel(n_jobs=1)]: Done   4 out of   4 | elapsed:  1.2min remaining:    0.0s\n"
     ]
    },
    {
     "name": "stdout",
     "output_type": "stream",
     "text": [
      "[CV]  learning_rate=0.2, max_depth=5, n_estimators=300, score=0.990, total=  35.1s\n",
      "[CV] learning_rate=0.2, max_depth=5, n_estimators=300 ................\n"
     ]
    },
    {
     "name": "stderr",
     "output_type": "stream",
     "text": [
      "[Parallel(n_jobs=1)]: Done   5 out of   5 | elapsed:  1.8min remaining:    0.0s\n"
     ]
    },
    {
     "name": "stdout",
     "output_type": "stream",
     "text": [
      "[CV]  learning_rate=0.2, max_depth=5, n_estimators=300, score=0.966, total=  36.0s\n",
      "[CV] learning_rate=0.2, max_depth=6, n_estimators=100 ................\n"
     ]
    },
    {
     "name": "stderr",
     "output_type": "stream",
     "text": [
      "[Parallel(n_jobs=1)]: Done   6 out of   6 | elapsed:  2.4min remaining:    0.0s\n"
     ]
    },
    {
     "name": "stdout",
     "output_type": "stream",
     "text": [
      "[CV]  learning_rate=0.2, max_depth=6, n_estimators=100, score=0.987, total=  14.2s\n",
      "[CV] learning_rate=0.2, max_depth=6, n_estimators=100 ................\n"
     ]
    },
    {
     "name": "stderr",
     "output_type": "stream",
     "text": [
      "[Parallel(n_jobs=1)]: Done   7 out of   7 | elapsed:  2.7min remaining:    0.0s\n"
     ]
    },
    {
     "name": "stdout",
     "output_type": "stream",
     "text": [
      "[CV]  learning_rate=0.2, max_depth=6, n_estimators=100, score=0.966, total=  14.7s\n",
      "[CV] learning_rate=0.2, max_depth=6, n_estimators=200 ................\n"
     ]
    },
    {
     "name": "stderr",
     "output_type": "stream",
     "text": [
      "[Parallel(n_jobs=1)]: Done   8 out of   8 | elapsed:  2.9min remaining:    0.0s\n"
     ]
    },
    {
     "name": "stdout",
     "output_type": "stream",
     "text": [
      "[CV]  learning_rate=0.2, max_depth=6, n_estimators=200, score=0.989, total=  26.2s\n",
      "[CV] learning_rate=0.2, max_depth=6, n_estimators=200 ................\n"
     ]
    },
    {
     "name": "stderr",
     "output_type": "stream",
     "text": [
      "[Parallel(n_jobs=1)]: Done   9 out of   9 | elapsed:  3.4min remaining:    0.0s\n"
     ]
    },
    {
     "name": "stdout",
     "output_type": "stream",
     "text": [
      "[CV]  learning_rate=0.2, max_depth=6, n_estimators=200, score=0.968, total=  27.4s\n",
      "[CV] learning_rate=0.2, max_depth=6, n_estimators=300 ................\n",
      "[CV]  learning_rate=0.2, max_depth=6, n_estimators=300, score=0.989, total=  36.9s\n",
      "[CV] learning_rate=0.2, max_depth=6, n_estimators=300 ................\n",
      "[CV]  learning_rate=0.2, max_depth=6, n_estimators=300, score=0.971, total=  40.2s\n",
      "[CV] learning_rate=0.2, max_depth=7, n_estimators=100 ................\n",
      "[CV]  learning_rate=0.2, max_depth=7, n_estimators=100, score=0.984, total=  15.8s\n",
      "[CV] learning_rate=0.2, max_depth=7, n_estimators=100 ................\n",
      "[CV]  learning_rate=0.2, max_depth=7, n_estimators=100, score=0.968, total=  16.5s\n",
      "[CV] learning_rate=0.2, max_depth=7, n_estimators=200 ................\n",
      "[CV]  learning_rate=0.2, max_depth=7, n_estimators=200, score=0.985, total=  28.3s\n",
      "[CV] learning_rate=0.2, max_depth=7, n_estimators=200 ................\n",
      "[CV]  learning_rate=0.2, max_depth=7, n_estimators=200, score=0.974, total=  30.7s\n",
      "[CV] learning_rate=0.2, max_depth=7, n_estimators=300 ................\n",
      "[CV]  learning_rate=0.2, max_depth=7, n_estimators=300, score=0.985, total=  38.9s\n",
      "[CV] learning_rate=0.2, max_depth=7, n_estimators=300 ................\n",
      "[CV]  learning_rate=0.2, max_depth=7, n_estimators=300, score=0.976, total=  44.5s\n",
      "[CV] learning_rate=0.3, max_depth=5, n_estimators=100 ................\n",
      "[CV]  learning_rate=0.3, max_depth=5, n_estimators=100, score=0.988, total=  12.4s\n",
      "[CV] learning_rate=0.3, max_depth=5, n_estimators=100 ................\n",
      "[CV]  learning_rate=0.3, max_depth=5, n_estimators=100, score=0.955, total=  13.4s\n",
      "[CV] learning_rate=0.3, max_depth=5, n_estimators=200 ................\n",
      "[CV]  learning_rate=0.3, max_depth=5, n_estimators=200, score=0.991, total=  22.8s\n",
      "[CV] learning_rate=0.3, max_depth=5, n_estimators=200 ................\n",
      "[CV]  learning_rate=0.3, max_depth=5, n_estimators=200, score=0.961, total=  24.3s\n",
      "[CV] learning_rate=0.3, max_depth=5, n_estimators=300 ................\n",
      "[CV]  learning_rate=0.3, max_depth=5, n_estimators=300, score=0.990, total=  33.3s\n",
      "[CV] learning_rate=0.3, max_depth=5, n_estimators=300 ................\n",
      "[CV]  learning_rate=0.3, max_depth=5, n_estimators=300, score=0.966, total=  35.8s\n",
      "[CV] learning_rate=0.3, max_depth=6, n_estimators=100 ................\n",
      "[CV]  learning_rate=0.3, max_depth=6, n_estimators=100, score=0.989, total=  13.7s\n",
      "[CV] learning_rate=0.3, max_depth=6, n_estimators=100 ................\n",
      "[CV]  learning_rate=0.3, max_depth=6, n_estimators=100, score=0.964, total=  14.3s\n",
      "[CV] learning_rate=0.3, max_depth=6, n_estimators=200 ................\n",
      "[CV]  learning_rate=0.3, max_depth=6, n_estimators=200, score=0.990, total=  24.5s\n",
      "[CV] learning_rate=0.3, max_depth=6, n_estimators=200 ................\n",
      "[CV]  learning_rate=0.3, max_depth=6, n_estimators=200, score=0.970, total=  28.1s\n",
      "[CV] learning_rate=0.3, max_depth=6, n_estimators=300 ................\n",
      "[CV]  learning_rate=0.3, max_depth=6, n_estimators=300, score=0.990, total=  34.0s\n",
      "[CV] learning_rate=0.3, max_depth=6, n_estimators=300 ................\n",
      "[CV]  learning_rate=0.3, max_depth=6, n_estimators=300, score=0.973, total=  39.6s\n",
      "[CV] learning_rate=0.3, max_depth=7, n_estimators=100 ................\n",
      "[CV]  learning_rate=0.3, max_depth=7, n_estimators=100, score=0.985, total=  14.8s\n",
      "[CV] learning_rate=0.3, max_depth=7, n_estimators=100 ................\n",
      "[CV]  learning_rate=0.3, max_depth=7, n_estimators=100, score=0.969, total=  15.8s\n",
      "[CV] learning_rate=0.3, max_depth=7, n_estimators=200 ................\n",
      "[CV]  learning_rate=0.3, max_depth=7, n_estimators=200, score=0.985, total=  26.1s\n",
      "[CV] learning_rate=0.3, max_depth=7, n_estimators=200 ................\n",
      "[CV]  learning_rate=0.3, max_depth=7, n_estimators=200, score=0.972, total=  29.6s\n",
      "[CV] learning_rate=0.3, max_depth=7, n_estimators=300 ................\n",
      "[CV]  learning_rate=0.3, max_depth=7, n_estimators=300, score=0.985, total=  35.4s\n",
      "[CV] learning_rate=0.3, max_depth=7, n_estimators=300 ................\n",
      "[CV]  learning_rate=0.3, max_depth=7, n_estimators=300, score=0.975, total=  43.6s\n",
      "[CV] learning_rate=0.4, max_depth=5, n_estimators=100 ................\n",
      "[CV]  learning_rate=0.4, max_depth=5, n_estimators=100, score=0.989, total=  12.6s\n",
      "[CV] learning_rate=0.4, max_depth=5, n_estimators=100 ................\n",
      "[CV]  learning_rate=0.4, max_depth=5, n_estimators=100, score=0.967, total=  12.5s\n",
      "[CV] learning_rate=0.4, max_depth=5, n_estimators=200 ................\n",
      "[CV]  learning_rate=0.4, max_depth=5, n_estimators=200, score=0.989, total=  23.0s\n",
      "[CV] learning_rate=0.4, max_depth=5, n_estimators=200 ................\n",
      "[CV]  learning_rate=0.4, max_depth=5, n_estimators=200, score=0.970, total=  24.0s\n",
      "[CV] learning_rate=0.4, max_depth=5, n_estimators=300 ................\n",
      "[CV]  learning_rate=0.4, max_depth=5, n_estimators=300, score=0.989, total=  31.6s\n",
      "[CV] learning_rate=0.4, max_depth=5, n_estimators=300 ................\n",
      "[CV]  learning_rate=0.4, max_depth=5, n_estimators=300, score=0.972, total=  35.3s\n",
      "[CV] learning_rate=0.4, max_depth=6, n_estimators=100 ................\n",
      "[CV]  learning_rate=0.4, max_depth=6, n_estimators=100, score=0.989, total=  13.3s\n",
      "[CV] learning_rate=0.4, max_depth=6, n_estimators=100 ................\n",
      "[CV]  learning_rate=0.4, max_depth=6, n_estimators=100, score=0.967, total=  14.1s\n",
      "[CV] learning_rate=0.4, max_depth=6, n_estimators=200 ................\n",
      "[CV]  learning_rate=0.4, max_depth=6, n_estimators=200, score=0.990, total=  23.4s\n",
      "[CV] learning_rate=0.4, max_depth=6, n_estimators=200 ................\n",
      "[CV]  learning_rate=0.4, max_depth=6, n_estimators=200, score=0.972, total=  26.3s\n",
      "[CV] learning_rate=0.4, max_depth=6, n_estimators=300 ................\n",
      "[CV]  learning_rate=0.4, max_depth=6, n_estimators=300, score=0.990, total=  32.0s\n",
      "[CV] learning_rate=0.4, max_depth=6, n_estimators=300 ................\n",
      "[CV]  learning_rate=0.4, max_depth=6, n_estimators=300, score=0.974, total=  38.5s\n",
      "[CV] learning_rate=0.4, max_depth=7, n_estimators=100 ................\n",
      "[CV]  learning_rate=0.4, max_depth=7, n_estimators=100, score=0.986, total=  14.1s\n",
      "[CV] learning_rate=0.4, max_depth=7, n_estimators=100 ................\n",
      "[CV]  learning_rate=0.4, max_depth=7, n_estimators=100, score=0.969, total=  15.4s\n",
      "[CV] learning_rate=0.4, max_depth=7, n_estimators=200 ................\n",
      "[CV]  learning_rate=0.4, max_depth=7, n_estimators=200, score=0.986, total=  24.0s\n",
      "[CV] learning_rate=0.4, max_depth=7, n_estimators=200 ................\n",
      "[CV]  learning_rate=0.4, max_depth=7, n_estimators=200, score=0.972, total=  29.1s\n",
      "[CV] learning_rate=0.4, max_depth=7, n_estimators=300 ................\n",
      "[CV]  learning_rate=0.4, max_depth=7, n_estimators=300, score=0.986, total=  32.3s\n",
      "[CV] learning_rate=0.4, max_depth=7, n_estimators=300 ................\n",
      "[CV]  learning_rate=0.4, max_depth=7, n_estimators=300, score=0.973, total=  39.8s\n"
     ]
    },
    {
     "name": "stderr",
     "output_type": "stream",
     "text": [
      "[Parallel(n_jobs=1)]: Done  54 out of  54 | elapsed: 23.0min finished\n"
     ]
    },
    {
     "data": {
      "text/plain": [
       "(0.981839082884232,\n",
       " {'learning_rate': 0.4, 'max_depth': 6, 'n_estimators': 300})"
      ]
     },
     "execution_count": 68,
     "metadata": {},
     "output_type": "execute_result"
    }
   ],
   "source": [
    "from sklearn.metrics import f1_score\n",
    "clf_xgb = XGBClassifier(objective = 'binary:logistic')\n",
    "from sklearn.metrics import fbeta_score, make_scorer\n",
    "f1_scorer = make_scorer(f1_score)\n",
    "param_dist = {'n_estimators': [100,200,300],\n",
    "              'learning_rate': [0.2,0.3,0.4],\n",
    "              'max_depth': [5, 6, 7]}\n",
    "\n",
    "clf =  GridSearchCV(clf_xgb, param_grid = param_dist, cv=2, scoring = 'accuracy',verbose=10)\n",
    "\n",
    "clf.fit(X_trainup, list(y_trainup))\n",
    "clf.best_score_, clf.best_params_"
   ]
  },
  {
   "cell_type": "code",
   "execution_count": 69,
   "metadata": {},
   "outputs": [
    {
     "data": {
      "text/plain": [
       "(0.981839082884232,\n",
       " {'learning_rate': 0.4, 'max_depth': 6, 'n_estimators': 300})"
      ]
     },
     "execution_count": 69,
     "metadata": {},
     "output_type": "execute_result"
    }
   ],
   "source": [
    "clf.best_score_, clf.best_params_"
   ]
  },
  {
   "cell_type": "code",
   "execution_count": 37,
   "metadata": {},
   "outputs": [
    {
     "data": {
      "text/plain": [
       "XGBClassifier(base_score=0.5, booster=None, colsample_bylevel=1,\n",
       "              colsample_bynode=1, colsample_bytree=1, gamma=0, gpu_id=-1,\n",
       "              importance_type='gain', interaction_constraints=None,\n",
       "              learning_rate=0.4, max_delta_step=0, max_depth=6,\n",
       "              min_child_weight=1, missing=nan, monotone_constraints=None,\n",
       "              n_estimators=300, n_jobs=0, num_parallel_tree=1,\n",
       "              objective='binary:logistic', random_state=0, reg_alpha=0,\n",
       "              reg_lambda=1, scale_pos_weight=1, subsample=1, tree_method=None,\n",
       "              validate_parameters=False, verbosity=None)"
      ]
     },
     "execution_count": 37,
     "metadata": {},
     "output_type": "execute_result"
    }
   ],
   "source": [
    "#learning_rate = 0.3, max_depth= 5, n_estimators= 300\n",
    "model_tunned = XGBClassifier(learning_rate = 0.4, max_depth= 6, n_estimators= 300)\n",
    "model_tunned.fit(X_trainup, y_trainup)"
   ]
  },
  {
   "cell_type": "code",
   "execution_count": 38,
   "metadata": {},
   "outputs": [
    {
     "data": {
      "text/plain": [
       "array([[24918,    49],\n",
       "       [   19,     2]], dtype=int64)"
      ]
     },
     "execution_count": 38,
     "metadata": {},
     "output_type": "execute_result"
    }
   ],
   "source": [
    "y_pred_tunned = model_tunned.predict(X_test)\n",
    "predictions_tunned = [round(value) for value in y_pred_tunned]\n",
    "confusion_matrix(y_test, predictions_tunned)"
   ]
  },
  {
   "cell_type": "code",
   "execution_count": 39,
   "metadata": {},
   "outputs": [
    {
     "name": "stdout",
     "output_type": "stream",
     "text": [
      "Accuracy: 1.00\n",
      "AUC: 0.55\n",
      "F1-score: 0.056\n",
      "recall: 0.10\n",
      "precision: 0.04\n"
     ]
    }
   ],
   "source": [
    "accuracy = accuracy_score(y_test, predictions_tunned)\n",
    "print(\"Accuracy: %.2f\" % (accuracy ))\n",
    "auc = roc_auc_score(y_test, predictions_tunned)\n",
    "print(\"AUC: %.2f\" % (auc))\n",
    "F1=f1_score(y_test, predictions_tunned)\n",
    "print(\"F1-score: %.3f\" % (F1 ))\n",
    "recall = recall_score(y_test, predictions_tunned)\n",
    "print(\"recall: %.2f\" % (recall))\n",
    "precision = precision_score(y_test, predictions_tunned)\n",
    "print(\"precision: %.2f\" % (precision))"
   ]
  },
  {
   "cell_type": "markdown",
   "metadata": {
    "collapsed": true
   },
   "source": [
    "# Results"
   ]
  },
  {
   "cell_type": "markdown",
   "metadata": {},
   "source": [
    "<font size=\"3\"><div style=\"text-align: justify\"> The dataset has an imbalanced distribution in the classes; to handle this, a Smote technique was executed to balance it. After a brief EDA process, a weak visual relation between the features and the dependent variable was identified. In the model fitting stage, the XGboost model was the one with the best performance, however, it just achieved an f1-score equal to 0.0976 which is not so good to use this model for the prediction task. </div></font>\n",
    "\n",
    "<font size=\"3\"><div style=\"text-align: justify\"> To enhance the results of the model we proposed to consider new features or to add new information to the dataset like device photos or a brief description of the device status given by the analyst. We could also gather more device recordings to increase the dataset size. To improve the model performance an ensemble method of models could be considered.</div></font>      \n",
    "\n",
    "\n"
   ]
  },
  {
   "cell_type": "markdown",
   "metadata": {},
   "source": [
    "# References\n",
    "\n"
   ]
  }
 ],
 "metadata": {
  "kernelspec": {
   "display_name": "Python 3",
   "language": "python",
   "name": "python3"
  },
  "language_info": {
   "codemirror_mode": {
    "name": "ipython",
    "version": 3
   },
   "file_extension": ".py",
   "mimetype": "text/x-python",
   "name": "python",
   "nbconvert_exporter": "python",
   "pygments_lexer": "ipython3",
   "version": "3.6.3"
  }
 },
 "nbformat": 4,
 "nbformat_minor": 2
}
