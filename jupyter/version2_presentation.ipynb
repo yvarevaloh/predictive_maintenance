{
 "cells": [
  {
   "cell_type": "markdown",
   "metadata": {},
   "source": [
    "![LaTex: Quadratic Functions](3DTechLogo.png)"
   ]
  },
  {
   "cell_type": "markdown",
   "metadata": {},
   "source": [
    "<font size=\"3\"><div style=\"text-align: justify\"> **Predictive Maintenance** has a long history. From visual inspection, which is the oldest method and still one of the most\n",
    "powerful and widely used, predictive maintenance has evolved to automated methods that use advanced signal processing techniques\n",
    "based on pattern recognition, including neural networks,fuzzy logic, and data-driven empirical and physical modeling. Fortunately, sensors are now available to identify the onset of equipment degradations and failures. Integrating these sensors with the predictive maintenance techniques can avoid unnecessary equipment replacement, save costs, and improve process safety, availability, and efficiency  <cite data-cite=\"hashemian2010state\">(hashemian, 2010).</cite> </div></font>\n",
    "\n",
    "<font size=\"3\"><div style=\"text-align: justify\">AWS has a machine learning solution for Predictive Maintenance challenge, click on this link for more information [AWS predictive maintenace](https://aws.amazon.com/solutions/predictive-maintenance-using-machine-learning).</div></font>"
   ]
  },
  {
   "cell_type": "markdown",
   "metadata": {},
   "source": [
    "# Loading packages "
   ]
  },
  {
   "cell_type": "markdown",
   "metadata": {},
   "source": [
    "<font size=\"3\"><div style=\"text-align: justify\">  In this section, the packages to process, analyze and visualize the data are loaded. Among these we can find: pandas,numpy, seaborn, scipy, matplotlib  and others. In addition, xgboost, sklearn and imblearn are loaded to fit the machine learning model.</div></font>\n"
   ]
  },
  {
   "cell_type": "code",
   "execution_count": 1,
   "metadata": {},
   "outputs": [],
   "source": [
    "from functions.main_functions import upload_csv, plot_curve_roc"
   ]
  },
  {
   "cell_type": "code",
   "execution_count": 2,
   "metadata": {},
   "outputs": [
    {
     "name": "stderr",
     "output_type": "stream",
     "text": [
      "Using TensorFlow backend.\n"
     ]
    }
   ],
   "source": [
    "import warnings, pypandoc, random\n",
    "import os\n",
    "warnings.filterwarnings(\"ignore\")\n",
    "import pandas as pd\n",
    "import numpy as np \n",
    "from datetime import datetime\n",
    "import seaborn as sns\n",
    "from xgboost import XGBClassifier\n",
    "get_ipython().run_line_magic('matplotlib', 'inline')\n",
    "from scipy import stats\n",
    "from xgboost import XGBClassifier\n",
    "from sklearn.model_selection import StratifiedKFold\n",
    "from sklearn.model_selection import RandomizedSearchCV, KFold\n",
    "from sklearn.metrics import f1_score\n",
    "from sklearn.model_selection import train_test_split\n",
    "from sklearn.model_selection import GridSearchCV\n",
    "from sklearn.model_selection import RandomizedSearchCV\n",
    "from sklearn.model_selection import ParameterGrid\n",
    "from sklearn.ensemble import RandomForestRegressor\n",
    "from sklearn.decomposition import PCA\n",
    "import xgboost as xgb\n",
    "from sklearn.metrics import mean_squared_error\n",
    "from sklearn.model_selection import cross_val_score\n",
    "from sklearn.metrics import confusion_matrix,accuracy_score\n",
    "from sklearn.ensemble import RandomForestClassifier\n",
    "from sklearn.model_selection import RepeatedStratifiedKFold\n",
    "from sklearn.model_selection import cross_val_predict\n",
    "from sklearn.feature_selection import RFE\n",
    "from sklearn.linear_model import LogisticRegression\n",
    "from collections import Counter \n",
    "from sklearn.metrics import roc_auc_score\n",
    "from sklearn.metrics import f1_score\n",
    "from sklearn.metrics import recall_score\n",
    "from sklearn.metrics import precision_score\n",
    "import matplotlib.pyplot as plt\n",
    "from sklearn import svm\n",
    "import imblearn\n",
    "from imblearn.over_sampling import SMOTE"
   ]
  },
  {
   "cell_type": "markdown",
   "metadata": {},
   "source": [
    "# Data\n",
    "\n",
    "<font size=\"3\"><div style=\"text-align: justify\">The database has 124494 rows, there is a total of 1169 unique devices of which 106 have had failures. The data has the daily report date, the failure/ non-failure column, recorded as 0 or 1, and 9 attributes related to the device. The information belongs to the period between 2015-01-01 and 2015-11-02. Additionally, the number of days from the first-day report is also included as a feature. </div></font>"
   ]
  },
  {
   "cell_type": "markdown",
   "metadata": {},
   "source": [
    "<font size=\"3\"><div style=\"text-align: justify\"> </div></font>\n",
    "![LaTex: Q](summay_data.png)"
   ]
  },
  {
   "cell_type": "code",
   "execution_count": 3,
   "metadata": {},
   "outputs": [],
   "source": [
    "data_path = 'C:/Users/vivi/Documents/AWS/project/data/'\n",
    "file = 'device_failure.csv'\n",
    "df = upload_csv(data_path, file)"
   ]
  },
  {
   "cell_type": "code",
   "execution_count": 4,
   "metadata": {},
   "outputs": [
    {
     "name": "stdout",
     "output_type": "stream",
     "text": [
      "(124494, 14)\n"
     ]
    },
    {
     "data": {
      "text/html": [
       "<div>\n",
       "<style scoped>\n",
       "    .dataframe tbody tr th:only-of-type {\n",
       "        vertical-align: middle;\n",
       "    }\n",
       "\n",
       "    .dataframe tbody tr th {\n",
       "        vertical-align: top;\n",
       "    }\n",
       "\n",
       "    .dataframe thead th {\n",
       "        text-align: right;\n",
       "    }\n",
       "</style>\n",
       "<table border=\"1\" class=\"dataframe\">\n",
       "  <thead>\n",
       "    <tr style=\"text-align: right;\">\n",
       "      <th></th>\n",
       "      <th>date</th>\n",
       "      <th>device</th>\n",
       "      <th>failure</th>\n",
       "      <th>attribute1</th>\n",
       "      <th>attribute2</th>\n",
       "      <th>attribute3</th>\n",
       "      <th>attribute4</th>\n",
       "      <th>attribute5</th>\n",
       "      <th>attribute6</th>\n",
       "      <th>attribute7</th>\n",
       "      <th>attribute8</th>\n",
       "      <th>attribute9</th>\n",
       "      <th>date_time</th>\n",
       "      <th>day</th>\n",
       "    </tr>\n",
       "  </thead>\n",
       "  <tbody>\n",
       "    <tr>\n",
       "      <th>0</th>\n",
       "      <td>2015-01-01</td>\n",
       "      <td>S1F01085</td>\n",
       "      <td>0.0</td>\n",
       "      <td>215630672.0</td>\n",
       "      <td>56.0</td>\n",
       "      <td>0.0</td>\n",
       "      <td>52.0</td>\n",
       "      <td>6.0</td>\n",
       "      <td>407438.0</td>\n",
       "      <td>0.0</td>\n",
       "      <td>0.0</td>\n",
       "      <td>7.0</td>\n",
       "      <td>2015-01-01</td>\n",
       "      <td>0</td>\n",
       "    </tr>\n",
       "    <tr>\n",
       "      <th>1163</th>\n",
       "      <td>2015-01-02</td>\n",
       "      <td>S1F01085</td>\n",
       "      <td>0.0</td>\n",
       "      <td>1650864.0</td>\n",
       "      <td>56.0</td>\n",
       "      <td>0.0</td>\n",
       "      <td>52.0</td>\n",
       "      <td>6.0</td>\n",
       "      <td>407438.0</td>\n",
       "      <td>0.0</td>\n",
       "      <td>0.0</td>\n",
       "      <td>7.0</td>\n",
       "      <td>2015-01-02</td>\n",
       "      <td>1</td>\n",
       "    </tr>\n",
       "    <tr>\n",
       "      <th>2326</th>\n",
       "      <td>2015-01-03</td>\n",
       "      <td>S1F01085</td>\n",
       "      <td>0.0</td>\n",
       "      <td>124017368.0</td>\n",
       "      <td>56.0</td>\n",
       "      <td>0.0</td>\n",
       "      <td>52.0</td>\n",
       "      <td>6.0</td>\n",
       "      <td>407438.0</td>\n",
       "      <td>0.0</td>\n",
       "      <td>0.0</td>\n",
       "      <td>7.0</td>\n",
       "      <td>2015-01-03</td>\n",
       "      <td>2</td>\n",
       "    </tr>\n",
       "    <tr>\n",
       "      <th>3489</th>\n",
       "      <td>2015-01-04</td>\n",
       "      <td>S1F01085</td>\n",
       "      <td>0.0</td>\n",
       "      <td>128073224.0</td>\n",
       "      <td>56.0</td>\n",
       "      <td>0.0</td>\n",
       "      <td>52.0</td>\n",
       "      <td>6.0</td>\n",
       "      <td>407439.0</td>\n",
       "      <td>0.0</td>\n",
       "      <td>0.0</td>\n",
       "      <td>7.0</td>\n",
       "      <td>2015-01-04</td>\n",
       "      <td>3</td>\n",
       "    </tr>\n",
       "    <tr>\n",
       "      <th>4651</th>\n",
       "      <td>2015-01-05</td>\n",
       "      <td>S1F01085</td>\n",
       "      <td>0.0</td>\n",
       "      <td>97393448.0</td>\n",
       "      <td>56.0</td>\n",
       "      <td>0.0</td>\n",
       "      <td>52.0</td>\n",
       "      <td>6.0</td>\n",
       "      <td>408114.0</td>\n",
       "      <td>0.0</td>\n",
       "      <td>0.0</td>\n",
       "      <td>7.0</td>\n",
       "      <td>2015-01-05</td>\n",
       "      <td>4</td>\n",
       "    </tr>\n",
       "  </tbody>\n",
       "</table>\n",
       "</div>"
      ],
      "text/plain": [
       "            date    device  failure   attribute1  attribute2  attribute3  \\\n",
       "0     2015-01-01  S1F01085      0.0  215630672.0        56.0         0.0   \n",
       "1163  2015-01-02  S1F01085      0.0    1650864.0        56.0         0.0   \n",
       "2326  2015-01-03  S1F01085      0.0  124017368.0        56.0         0.0   \n",
       "3489  2015-01-04  S1F01085      0.0  128073224.0        56.0         0.0   \n",
       "4651  2015-01-05  S1F01085      0.0   97393448.0        56.0         0.0   \n",
       "\n",
       "      attribute4  attribute5  attribute6  attribute7  attribute8  attribute9  \\\n",
       "0           52.0         6.0    407438.0         0.0         0.0         7.0   \n",
       "1163        52.0         6.0    407438.0         0.0         0.0         7.0   \n",
       "2326        52.0         6.0    407438.0         0.0         0.0         7.0   \n",
       "3489        52.0         6.0    407439.0         0.0         0.0         7.0   \n",
       "4651        52.0         6.0    408114.0         0.0         0.0         7.0   \n",
       "\n",
       "      date_time  day  \n",
       "0    2015-01-01    0  \n",
       "1163 2015-01-02    1  \n",
       "2326 2015-01-03    2  \n",
       "3489 2015-01-04    3  \n",
       "4651 2015-01-05    4  "
      ]
     },
     "execution_count": 4,
     "metadata": {},
     "output_type": "execute_result"
    }
   ],
   "source": [
    "print(df.shape)\n",
    "df.head()"
   ]
  },
  {
   "cell_type": "code",
   "execution_count": 5,
   "metadata": {},
   "outputs": [
    {
     "name": "stdout",
     "output_type": "stream",
     "text": [
      "Total number of unique devices: 1169\n",
      "Total number of failure: 106\n",
      "Total number of non-failure: 1063\n"
     ]
    }
   ],
   "source": [
    "device = df['device'].drop_duplicates()\n",
    "print('Total number of unique devices:',device.shape[0])\n",
    "fail_devices = list(df[df['failure']==1.0]['device'].drop_duplicates())\n",
    "print('Total number of failure:',len(fail_devices))\n",
    "no_fail_devices = list(set(list(df['device'].drop_duplicates()))-set(fail_devices))\n",
    "print('Total number of non-failure:', len(no_fail_devices))"
   ]
  },
  {
   "cell_type": "code",
   "execution_count": 6,
   "metadata": {},
   "outputs": [
    {
     "name": "stdout",
     "output_type": "stream",
     "text": [
      "Minimum date: 2015-01-01\n",
      "Maxiimum date: 2015-11-02\n"
     ]
    }
   ],
   "source": [
    "print('Minimum date:',min(df['date']))\n",
    "print('Maxiimum date:',max(df['date']))"
   ]
  },
  {
   "cell_type": "markdown",
   "metadata": {},
   "source": [
    "# Exploratory Data Analysis"
   ]
  },
  {
   "cell_type": "markdown",
   "metadata": {
    "collapsed": true
   },
   "source": [
    "<font size=\"3\"><div style=\"text-align: justify\">The descriptive statistics and the boxplots are calculated for the 9 attributes in the dataset. It can be appreciated that Attribute 1 has the highest variance and the highest mean in the data but it does not have outliers. Variables 2 to 9 have many outlier values in the distribution. There is no visible difference in the failure/ non-failure attribute for any of the features regarded, which seems to indicate that new features need to be considered to enhance the classification model; nevertheless, the interactions of the variables must be included in the model to be able to conclude this. The above will be assessed in the fitting model section.</div></font>"
   ]
  },
  {
   "cell_type": "code",
   "execution_count": 7,
   "metadata": {
    "scrolled": true
   },
   "outputs": [
    {
     "data": {
      "text/html": [
       "<div>\n",
       "<style scoped>\n",
       "    .dataframe tbody tr th:only-of-type {\n",
       "        vertical-align: middle;\n",
       "    }\n",
       "\n",
       "    .dataframe tbody tr th {\n",
       "        vertical-align: top;\n",
       "    }\n",
       "\n",
       "    .dataframe thead th {\n",
       "        text-align: right;\n",
       "    }\n",
       "</style>\n",
       "<table border=\"1\" class=\"dataframe\">\n",
       "  <thead>\n",
       "    <tr style=\"text-align: right;\">\n",
       "      <th></th>\n",
       "      <th>attribute1</th>\n",
       "      <th>attribute2</th>\n",
       "      <th>attribute3</th>\n",
       "      <th>attribute4</th>\n",
       "      <th>attribute5</th>\n",
       "      <th>attribute6</th>\n",
       "      <th>attribute7</th>\n",
       "      <th>attribute8</th>\n",
       "      <th>attribute9</th>\n",
       "      <th>day</th>\n",
       "    </tr>\n",
       "  </thead>\n",
       "  <tbody>\n",
       "    <tr>\n",
       "      <th>count</th>\n",
       "      <td>1.244940e+05</td>\n",
       "      <td>124494.000000</td>\n",
       "      <td>124494.000000</td>\n",
       "      <td>124494.000000</td>\n",
       "      <td>124494.000000</td>\n",
       "      <td>124494.000000</td>\n",
       "      <td>124494.000000</td>\n",
       "      <td>124494.000000</td>\n",
       "      <td>124494.000000</td>\n",
       "      <td>124494.000000</td>\n",
       "    </tr>\n",
       "    <tr>\n",
       "      <th>mean</th>\n",
       "      <td>1.223881e+08</td>\n",
       "      <td>159.484762</td>\n",
       "      <td>9.940455</td>\n",
       "      <td>1.741120</td>\n",
       "      <td>14.222669</td>\n",
       "      <td>260172.657726</td>\n",
       "      <td>0.292528</td>\n",
       "      <td>0.292528</td>\n",
       "      <td>12.451524</td>\n",
       "      <td>102.178675</td>\n",
       "    </tr>\n",
       "    <tr>\n",
       "      <th>std</th>\n",
       "      <td>7.045933e+07</td>\n",
       "      <td>2179.657730</td>\n",
       "      <td>185.747321</td>\n",
       "      <td>22.908507</td>\n",
       "      <td>15.943028</td>\n",
       "      <td>99151.078547</td>\n",
       "      <td>7.436924</td>\n",
       "      <td>7.436924</td>\n",
       "      <td>191.425623</td>\n",
       "      <td>77.211274</td>\n",
       "    </tr>\n",
       "    <tr>\n",
       "      <th>min</th>\n",
       "      <td>0.000000e+00</td>\n",
       "      <td>0.000000</td>\n",
       "      <td>0.000000</td>\n",
       "      <td>0.000000</td>\n",
       "      <td>1.000000</td>\n",
       "      <td>8.000000</td>\n",
       "      <td>0.000000</td>\n",
       "      <td>0.000000</td>\n",
       "      <td>0.000000</td>\n",
       "      <td>0.000000</td>\n",
       "    </tr>\n",
       "    <tr>\n",
       "      <th>25%</th>\n",
       "      <td>6.128476e+07</td>\n",
       "      <td>0.000000</td>\n",
       "      <td>0.000000</td>\n",
       "      <td>0.000000</td>\n",
       "      <td>8.000000</td>\n",
       "      <td>221452.000000</td>\n",
       "      <td>0.000000</td>\n",
       "      <td>0.000000</td>\n",
       "      <td>0.000000</td>\n",
       "      <td>37.000000</td>\n",
       "    </tr>\n",
       "    <tr>\n",
       "      <th>50%</th>\n",
       "      <td>1.227974e+08</td>\n",
       "      <td>0.000000</td>\n",
       "      <td>0.000000</td>\n",
       "      <td>0.000000</td>\n",
       "      <td>10.000000</td>\n",
       "      <td>249799.500000</td>\n",
       "      <td>0.000000</td>\n",
       "      <td>0.000000</td>\n",
       "      <td>0.000000</td>\n",
       "      <td>82.000000</td>\n",
       "    </tr>\n",
       "    <tr>\n",
       "      <th>75%</th>\n",
       "      <td>1.833096e+08</td>\n",
       "      <td>0.000000</td>\n",
       "      <td>0.000000</td>\n",
       "      <td>0.000000</td>\n",
       "      <td>12.000000</td>\n",
       "      <td>310266.000000</td>\n",
       "      <td>0.000000</td>\n",
       "      <td>0.000000</td>\n",
       "      <td>0.000000</td>\n",
       "      <td>161.000000</td>\n",
       "    </tr>\n",
       "    <tr>\n",
       "      <th>max</th>\n",
       "      <td>2.441405e+08</td>\n",
       "      <td>64968.000000</td>\n",
       "      <td>24929.000000</td>\n",
       "      <td>1666.000000</td>\n",
       "      <td>98.000000</td>\n",
       "      <td>689161.000000</td>\n",
       "      <td>832.000000</td>\n",
       "      <td>832.000000</td>\n",
       "      <td>18701.000000</td>\n",
       "      <td>303.000000</td>\n",
       "    </tr>\n",
       "  </tbody>\n",
       "</table>\n",
       "</div>"
      ],
      "text/plain": [
       "         attribute1     attribute2     attribute3     attribute4  \\\n",
       "count  1.244940e+05  124494.000000  124494.000000  124494.000000   \n",
       "mean   1.223881e+08     159.484762       9.940455       1.741120   \n",
       "std    7.045933e+07    2179.657730     185.747321      22.908507   \n",
       "min    0.000000e+00       0.000000       0.000000       0.000000   \n",
       "25%    6.128476e+07       0.000000       0.000000       0.000000   \n",
       "50%    1.227974e+08       0.000000       0.000000       0.000000   \n",
       "75%    1.833096e+08       0.000000       0.000000       0.000000   \n",
       "max    2.441405e+08   64968.000000   24929.000000    1666.000000   \n",
       "\n",
       "          attribute5     attribute6     attribute7     attribute8  \\\n",
       "count  124494.000000  124494.000000  124494.000000  124494.000000   \n",
       "mean       14.222669  260172.657726       0.292528       0.292528   \n",
       "std        15.943028   99151.078547       7.436924       7.436924   \n",
       "min         1.000000       8.000000       0.000000       0.000000   \n",
       "25%         8.000000  221452.000000       0.000000       0.000000   \n",
       "50%        10.000000  249799.500000       0.000000       0.000000   \n",
       "75%        12.000000  310266.000000       0.000000       0.000000   \n",
       "max        98.000000  689161.000000     832.000000     832.000000   \n",
       "\n",
       "          attribute9            day  \n",
       "count  124494.000000  124494.000000  \n",
       "mean       12.451524     102.178675  \n",
       "std       191.425623      77.211274  \n",
       "min         0.000000       0.000000  \n",
       "25%         0.000000      37.000000  \n",
       "50%         0.000000      82.000000  \n",
       "75%         0.000000     161.000000  \n",
       "max     18701.000000     303.000000  "
      ]
     },
     "execution_count": 7,
     "metadata": {},
     "output_type": "execute_result"
    }
   ],
   "source": [
    "varx=['attribute1','attribute2','attribute3','attribute4','attribute5','attribute6',\n",
    "        'attribute7','attribute8','attribute9','day']\n",
    "df[varx].describe()"
   ]
  },
  {
   "cell_type": "code",
   "execution_count": 8,
   "metadata": {},
   "outputs": [],
   "source": [
    "#import pandas as pd\n",
    "df2 = pd.melt(df, id_vars=['date', 'device','failure'], \n",
    "              value_vars=['attribute1','attribute2','attribute3',\n",
    "                            'attribute4','attribute5','attribute6',\n",
    "                            'attribute7','attribute8','attribute9'])"
   ]
  },
  {
   "cell_type": "code",
   "execution_count": 9,
   "metadata": {},
   "outputs": [
    {
     "data": {
      "image/png": "[encoded data removed]",
      "text/plain": [
       "<matplotlib.figure.Figure at 0x239d23a0898>"
      ]
     },
     "metadata": {
      "needs_background": "light"
     },
     "output_type": "display_data"
    }
   ],
   "source": [
    "sns.set_context(\"paper\", font_scale=2)\n",
    "fig = plt.figure(figsize=(33, 16))\n",
    "ax1 =fig.add_subplot(3,3,1)\n",
    "sns.boxplot(x = 'variable', y = 'value',\n",
    "                 data=df2[df2['variable'].isin(['attribute1'])], hue = 'failure',\n",
    "                 palette=\"colorblind\")\n",
    "ax2 =fig.add_subplot(3,3,2)\n",
    "sns.boxplot(x = 'variable', y = 'value', \n",
    "                 data=df2[df2['variable'].isin(['attribute2'])], hue = 'failure',\n",
    "                 palette=\"colorblind\")\n",
    "ax3 =fig.add_subplot(3,3,3)\n",
    "sns.boxplot(x = 'variable', y = 'value', \n",
    "                 data=df2[df2['variable'].isin(['attribute3'])], hue = 'failure',\n",
    "                 palette=\"colorblind\")\n",
    "\n",
    "ax4 =fig.add_subplot(3,3,4)\n",
    "sns.boxplot(x = 'variable', y = 'value', \n",
    "                 data=df2[df2['variable'].isin(['attribute4'])], hue = 'failure',\n",
    "                 palette=\"colorblind\")\n",
    "ax5 =fig.add_subplot(3,3,5)\n",
    "sns.boxplot(x = 'variable', y = 'value', \n",
    "                 data=df2[df2['variable'].isin(['attribute5'])],\n",
    "                 hue = 'failure',palette=\"colorblind\")\n",
    "ax6 =fig.add_subplot(3,3,6)\n",
    "sns.boxplot(x = 'variable', y = 'value', \n",
    "                 data=df2[df2['variable'].isin(['attribute6'])], hue = 'failure',\n",
    "                 palette=\"colorblind\")\n",
    "ax7 =fig.add_subplot(3,3,7)\n",
    "sns.boxplot(x = 'variable', y = 'value', \n",
    "                 data=df2[df2['variable'].isin(['attribute7'])], hue = 'failure',\n",
    "                 palette=\"colorblind\")\n",
    "ax8 =fig.add_subplot(3,3,8)\n",
    "sns.boxplot(x = 'variable', y = 'value', \n",
    "                 data=df2[df2['variable'].isin(['attribute8'])], hue = 'failure',\n",
    "                 palette=\"colorblind\")\n",
    "ax9 =fig.add_subplot(3,3,9)\n",
    "sns.boxplot(x = 'variable', y = 'value', \n",
    "                 data=df2[df2['variable'].isin(['attribute9'])], hue = 'failure',\n",
    "                 palette=\"colorblind\")\n",
    "plt.savefig('books_read.png')"
   ]
  },
  {
   "cell_type": "markdown",
   "metadata": {},
   "source": [
    "# Methodology"
   ]
  },
  {
   "cell_type": "markdown",
   "metadata": {},
   "source": [
    "<font size=\"3\"><div style=\"text-align: justify\"> There are two key points in this challenge. First, this an imbalanced dataset that could bias the model to classify the observations as part of the majority class. Second, this is a repeated measurements dataset which means we have autocorrelation, as it is well known, one of the strongest assumption in Machine Learning models is that data is independent and identically distributed. Therefore, these issues have to be considered during the fitting process.</div></font>\n",
    "\n",
    "<font size=\"3\"><div style=\"text-align: justify\"> \n",
    "A binary classification model can be used to predict the probability of a device failure. This notebook presents a way to handle the dependency on data, the imbalanced classes, three different machine learning classification models, a cross-validation process to test the dependency of the results on the fitted model and the sample used to train its as weel as a grid search process to optimize the hyperparameters in the best performed model.</div></font>"
   ]
  },
  {
   "cell_type": "markdown",
   "metadata": {},
   "source": [
    "## Independent data sets for training and testing"
   ]
  },
  {
   "cell_type": "markdown",
   "metadata": {},
   "source": [
    "<font size=\"3\"><div style=\"text-align: justify\">\n",
    "A central assumption in Machine Learning (and statistics) it that of independent and identically distributed (IID) data. The readouts consist of aggregated data that have been sampled at different times. Subsequent values from any given device are highly correlated to each other. It is even more evident in the case of cumulative values where a single event of\n",
    "abnormal value will directly affect all subsequent readouts which makes all readouts from a single device dependent.</div></font>    \n",
    "<font size=\"3\"><div style=\"text-align: justify\"> A partial way to deal with this problem is to ensure that the test and train dataset is split on a per device basis and not randomly among all readouts. It means that if one\n",
    "or more readouts from a given device belong to the test set, no readouts from the same\n",
    "device can be used to train the classifier. The data sets for training and testing must\n",
    "contain unique, non-overlapping sets of devices to guarantee that patterns\n",
    "that are linked to wear and usage are learned, instead of specific usage patterns for\n",
    "individual devices.<cite data-cite=\"prytz2013analysis\">(prytz,2013).</cite></div></font>\n",
    "\n",
    "<font size=\"3\"><div style=\"text-align: justify\">Regarding the unique devices, the dataset is split in training and test taking in account the failure/ no-failure dependente variable. </div></font>"
   ]
  },
  {
   "cell_type": "code",
   "execution_count": 10,
   "metadata": {},
   "outputs": [],
   "source": [
    "df=pd.read_csv(os.path.join(data_path,'device_failure_dataframe.csv'))\n"
   ]
  },
  {
   "cell_type": "code",
   "execution_count": 11,
   "metadata": {},
   "outputs": [
    {
     "name": "stdout",
     "output_type": "stream",
     "text": [
      "Total number of unique devices: 1169\n",
      "Total number of failure: 106\n",
      "Total number of non-failure: 1063\n"
     ]
    }
   ],
   "source": [
    "device = df['device'].drop_duplicates()\n",
    "print('Total number of unique devices:',device.shape[0])\n",
    "fail_devices = list(df[df['failure']==1.0]['device'].drop_duplicates())\n",
    "print('Total number of failure:',len(fail_devices))\n",
    "no_fail_devices = list(set(df['device'].drop_duplicates()).difference(fail_devices))\n",
    "print('Total number of non-failure:', len(no_fail_devices))"
   ]
  },
  {
   "cell_type": "code",
   "execution_count": 12,
   "metadata": {},
   "outputs": [],
   "source": [
    "y_fail = list(np.repeat(1,len(fail_devices)))+list(np.repeat(0,len(no_fail_devices)))\n",
    "X_fail = fail_devices +  no_fail_devices"
   ]
  },
  {
   "cell_type": "code",
   "execution_count": 13,
   "metadata": {},
   "outputs": [],
   "source": [
    "X_trainf, X_testf, y_trainf, y_testf = train_test_split(X_fail, y_fail, test_size=0.25, random_state=42,stratify=y_fail)"
   ]
  },
  {
   "cell_type": "code",
   "execution_count": 14,
   "metadata": {},
   "outputs": [],
   "source": [
    "var = ['attribute1','attribute2','attribute3','attribute4','attribute5',\n",
    "         'attribute6','attribute7','attribute8','attribute9']\n",
    "train = df[df['device'].isin(X_trainf)]\n",
    "X_train = train[var]\n",
    "y_train = train['failure']\n",
    "\n",
    "test = df[df['device'].isin(X_testf)]\n",
    "X_test = test[var]\n",
    "y_test = test['failure']"
   ]
  },
  {
   "cell_type": "code",
   "execution_count": 15,
   "metadata": {},
   "outputs": [],
   "source": [
    "X_test.to_csv(os.path.join(data_path,'X_test.csv'))\n",
    "y_test.to_csv(os.path.join(data_path,'y_test.csv'))"
   ]
  },
  {
   "cell_type": "code",
   "execution_count": 16,
   "metadata": {},
   "outputs": [
    {
     "name": "stdout",
     "output_type": "stream",
     "text": [
      "Counter({0: 797, 1: 79})\n",
      "Counter({0: 266, 1: 27})\n"
     ]
    }
   ],
   "source": [
    "print(Counter(y_trainf))\n",
    "print(Counter(y_testf))"
   ]
  },
  {
   "cell_type": "code",
   "execution_count": 17,
   "metadata": {},
   "outputs": [
    {
     "name": "stdout",
     "output_type": "stream",
     "text": [
      "8.726415094339622\n",
      "9.116809116809117\n"
     ]
    }
   ],
   "source": [
    "print(74/(774+74)*100)\n",
    "print((32/(32+319))*100)"
   ]
  },
  {
   "cell_type": "markdown",
   "metadata": {},
   "source": [
    "## Balancing the dataset"
   ]
  },
  {
   "cell_type": "markdown",
   "metadata": {},
   "source": [
    "<font size=\"3\"><div style=\"text-align: justify\">Machine learning methods usually assume a fairly balanced data distribution when an imbalanced dataset is used to train a model the results tend to be heavily biased towards the majority class. This is the case faced here, there is a small proportion of failed devices. </div></font>\n",
    "\n",
    "<font size=\"3\"><div style=\"text-align: justify\">\n",
    "Imbalanced datasets require either learning algorithms that handle this or data preprocessing steps that even out the imbalance. Upsampling and downsampling are techniques to preproccess the data; however, there is not an agreement about the percentage that should be used to have better results during the balance process. In consecuence, the Synthetic Minority Over-sampling TEchnique (SMOTE) introduced by <cite data-cite=\"chawla2002smote\">(chawla,2002).</cite> is used. \n",
    " </div></font>\n",
    "   \n",
    "<font size=\"3\"><div style=\"text-align: justify\"> SMOTE technique identifies, for any given positive example, the k nearest neighbours belonging to the same class. It then creates new, synthetic, examples randomly placed in between the original example and the k neighbors. It uses two design parameters: number of neighbors to take into consideration (k) and the percentage of\n",
    "synthetic examples to create. The first parameter, intuitively, determines how similar new examples should be to existing ones, and the other how balanced the data should be afterward. <cite data-cite=\"prytz2013analysis\">(prytz,2013).</cite> </div></font>\n"
   ]
  },
  {
   "cell_type": "code",
   "execution_count": 18,
   "metadata": {},
   "outputs": [],
   "source": [
    "# transform the dataset\n",
    "from imblearn.over_sampling import SMOTE\n",
    "oversample = SMOTE(random_state=42)\n",
    "X_trainup, y_trainup = oversample.fit_resample(X_train, y_train)"
   ]
  },
  {
   "cell_type": "code",
   "execution_count": 19,
   "metadata": {},
   "outputs": [],
   "source": [
    "#X_trainup.to_csv(os.path.join(data_path,'X_trainup.csv'))\n",
    "#y_trainup.to_csv(os.path.join(data_path,'y_trainup.csv'))"
   ]
  },
  {
   "cell_type": "markdown",
   "metadata": {},
   "source": [
    "## Fitted  Models"
   ]
  },
  {
   "cell_type": "markdown",
   "metadata": {},
   "source": [
    "<font size=\"3\"><div style=\"text-align: left\"> Three models are observed in the fitting model process:</div></font>\n",
    "\n",
    "<font size=\"3\"><div style=\"text-align: left\">    \n",
    "* Random Forest [Random Forest introduction](https://medium.com/@Synced/how-random-forest-algorithm-works-in-machine-learning-3c0fe15b6674)\n",
    "* KNeighbors model [KNeighbors model introduction](https://medium.com/datadriveninvestor/k-nearest-neighbors-knn-7b4bd0128da7)\n",
    "* XgBoost [Xgboost introduction](https://medium.com/@gabrieltseng/gradient-boosting-and-xgboost-c306c1bcfaf5)   \n",
    "</div></font>\n",
    "\n",
    "<font size=\"3\"><div style=\"text-align: left\"> \n",
    "The model with the best performance is tunned by means of a grid search process and the cross-validation process is used to assess this model.</div></font>  \n",
    "\n",
    "<font size=\"3\"><div style=\"text-align: left\"> \n",
    "Four metrics are calculated for each one of the models estimated: accuracy, F1-score, recall, precision. Even though, **given that the goal of the analysis is to minimize false positives and false negatives, the F1 score is considered as the metric to maximize**. [Evaluation metrics](https://medium.com/@kennymiyasato/classification-report-precision-recall-f1-score-accuracy-16a245a437a5)\n",
    "</div></font>  "
   ]
  },
  {
   "cell_type": "code",
   "execution_count": 20,
   "metadata": {},
   "outputs": [],
   "source": [
    "X_trainup = pd.read_csv(os.path.join(data_path,'X_trainup.csv')).drop(columns=['Unnamed: 0'])\n",
    "y_trainup = pd.read_csv(os.path.join(data_path,'y_trainup.csv')).drop(columns=['Unnamed: 0'])"
   ]
  },
  {
   "cell_type": "markdown",
   "metadata": {},
   "source": [
    "### Random Forest "
   ]
  },
  {
   "cell_type": "code",
   "execution_count": 21,
   "metadata": {},
   "outputs": [
    {
     "data": {
      "text/plain": [
       "RandomForestClassifier(bootstrap=True, ccp_alpha=0.0, class_weight=None,\n",
       "                       criterion='gini', max_depth=2, max_features='auto',\n",
       "                       max_leaf_nodes=None, max_samples=None,\n",
       "                       min_impurity_decrease=0.0, min_impurity_split=None,\n",
       "                       min_samples_leaf=1, min_samples_split=2,\n",
       "                       min_weight_fraction_leaf=0.0, n_estimators=100,\n",
       "                       n_jobs=None, oob_score=False, random_state=0, verbose=0,\n",
       "                       warm_start=False)"
      ]
     },
     "execution_count": 21,
     "metadata": {},
     "output_type": "execute_result"
    }
   ],
   "source": [
    "clf = RandomForestClassifier(n_estimators=100, max_depth=2,random_state=0)\n",
    "clf.fit(X_trainup, y_trainup)\n"
   ]
  },
  {
   "cell_type": "markdown",
   "metadata": {},
   "source": [
    "#### Feature importance"
   ]
  },
  {
   "cell_type": "code",
   "execution_count": 22,
   "metadata": {},
   "outputs": [
    {
     "data": {
      "text/html": [
       "<div>\n",
       "<style scoped>\n",
       "    .dataframe tbody tr th:only-of-type {\n",
       "        vertical-align: middle;\n",
       "    }\n",
       "\n",
       "    .dataframe tbody tr th {\n",
       "        vertical-align: top;\n",
       "    }\n",
       "\n",
       "    .dataframe thead th {\n",
       "        text-align: right;\n",
       "    }\n",
       "</style>\n",
       "<table border=\"1\" class=\"dataframe\">\n",
       "  <thead>\n",
       "    <tr style=\"text-align: right;\">\n",
       "      <th></th>\n",
       "      <th>var</th>\n",
       "      <th>feature_importance</th>\n",
       "    </tr>\n",
       "  </thead>\n",
       "  <tbody>\n",
       "    <tr>\n",
       "      <th>3</th>\n",
       "      <td>attribute4</td>\n",
       "      <td>0.332248</td>\n",
       "    </tr>\n",
       "    <tr>\n",
       "      <th>1</th>\n",
       "      <td>attribute2</td>\n",
       "      <td>0.292423</td>\n",
       "    </tr>\n",
       "    <tr>\n",
       "      <th>7</th>\n",
       "      <td>attribute8</td>\n",
       "      <td>0.167746</td>\n",
       "    </tr>\n",
       "    <tr>\n",
       "      <th>6</th>\n",
       "      <td>attribute7</td>\n",
       "      <td>0.165769</td>\n",
       "    </tr>\n",
       "    <tr>\n",
       "      <th>8</th>\n",
       "      <td>attribute9</td>\n",
       "      <td>0.025127</td>\n",
       "    </tr>\n",
       "    <tr>\n",
       "      <th>4</th>\n",
       "      <td>attribute5</td>\n",
       "      <td>0.009661</td>\n",
       "    </tr>\n",
       "    <tr>\n",
       "      <th>5</th>\n",
       "      <td>attribute6</td>\n",
       "      <td>0.004788</td>\n",
       "    </tr>\n",
       "    <tr>\n",
       "      <th>2</th>\n",
       "      <td>attribute3</td>\n",
       "      <td>0.001164</td>\n",
       "    </tr>\n",
       "    <tr>\n",
       "      <th>0</th>\n",
       "      <td>attribute1</td>\n",
       "      <td>0.001072</td>\n",
       "    </tr>\n",
       "  </tbody>\n",
       "</table>\n",
       "</div>"
      ],
      "text/plain": [
       "          var  feature_importance\n",
       "3  attribute4            0.332248\n",
       "1  attribute2            0.292423\n",
       "7  attribute8            0.167746\n",
       "6  attribute7            0.165769\n",
       "8  attribute9            0.025127\n",
       "4  attribute5            0.009661\n",
       "5  attribute6            0.004788\n",
       "2  attribute3            0.001164\n",
       "0  attribute1            0.001072"
      ]
     },
     "execution_count": 22,
     "metadata": {},
     "output_type": "execute_result"
    }
   ],
   "source": [
    "pd.DataFrame({'var':X_trainup.columns,'feature_importance':clf.feature_importances_}).sort_values(['feature_importance'],ascending=False)"
   ]
  },
  {
   "cell_type": "code",
   "execution_count": 23,
   "metadata": {},
   "outputs": [
    {
     "data": {
      "text/plain": [
       "array([[26370,   860],\n",
       "       [    9,    18]], dtype=int64)"
      ]
     },
     "execution_count": 23,
     "metadata": {},
     "output_type": "execute_result"
    }
   ],
   "source": [
    "predictions=clf.predict(X_test)\n",
    "confusion_matrix(y_test, predictions)"
   ]
  },
  {
   "cell_type": "code",
   "execution_count": 24,
   "metadata": {},
   "outputs": [
    {
     "name": "stdout",
     "output_type": "stream",
     "text": [
      "Accuracy: 0.968\n",
      "AUC: 0.818\n",
      "F1-score: 0.040\n",
      "recall: 0.667\n",
      "precision: 0.021\n"
     ]
    }
   ],
   "source": [
    "accuracy = accuracy_score(y_test, predictions)\n",
    "print(\"Accuracy: %.3f\" % (accuracy))\n",
    "auc = roc_auc_score(y_test, predictions)\n",
    "print(\"AUC: %.3f\" % (auc))\n",
    "F1=f1_score(y_test, predictions)\n",
    "print(\"F1-score: %.3f\" % (F1))\n",
    "recall = recall_score(y_test, predictions)\n",
    "print(\"recall: %.3f\" % (recall))\n",
    "precision = precision_score(y_test, predictions)\n",
    "print(\"precision: %.3f\" % (precision))"
   ]
  },
  {
   "cell_type": "code",
   "execution_count": 25,
   "metadata": {},
   "outputs": [
    {
     "data": {
      "image/png": "[encoded data removed]",
      "text/plain": [
       "<matplotlib.figure.Figure at 0x239d5569240>"
      ]
     },
     "metadata": {
      "needs_background": "light"
     },
     "output_type": "display_data"
    }
   ],
   "source": [
    "plot_curve_roc(clf,X_test,y_test)"
   ]
  },
  {
   "cell_type": "markdown",
   "metadata": {},
   "source": [
    "### KNeighbors model "
   ]
  },
  {
   "cell_type": "code",
   "execution_count": 26,
   "metadata": {},
   "outputs": [
    {
     "data": {
      "text/plain": [
       "KNeighborsClassifier(algorithm='auto', leaf_size=30, metric='minkowski',\n",
       "                     metric_params=None, n_jobs=None, n_neighbors=3, p=2,\n",
       "                     weights='uniform')"
      ]
     },
     "execution_count": 26,
     "metadata": {},
     "output_type": "execute_result"
    }
   ],
   "source": [
    "from sklearn.neighbors import KNeighborsClassifier\n",
    "neigh = KNeighborsClassifier(n_neighbors=3)\n",
    "neigh.fit(X_trainup, y_trainup)"
   ]
  },
  {
   "cell_type": "code",
   "execution_count": 27,
   "metadata": {},
   "outputs": [
    {
     "data": {
      "text/plain": [
       "array([[23343,  3887],\n",
       "       [   21,     6]], dtype=int64)"
      ]
     },
     "execution_count": 27,
     "metadata": {},
     "output_type": "execute_result"
    }
   ],
   "source": [
    "predictions = neigh.predict(X_test)\n",
    "confusion_matrix(y_test, predictions)"
   ]
  },
  {
   "cell_type": "code",
   "execution_count": 28,
   "metadata": {},
   "outputs": [
    {
     "name": "stdout",
     "output_type": "stream",
     "text": [
      "Accuracy: 0.857\n",
      "AUC: 0.540\n",
      "F1-score: 0.003\n",
      "recall: 0.222\n",
      "precision: 0.002\n"
     ]
    }
   ],
   "source": [
    "accuracy = accuracy_score(y_test, predictions)\n",
    "print(\"Accuracy: %.3f\" % (accuracy ))\n",
    "auc = roc_auc_score(y_test, predictions)\n",
    "print(\"AUC: %.3f\" % (auc))\n",
    "F1=f1_score(y_test, predictions)\n",
    "print(\"F1-score: %.3f\" % (F1))\n",
    "recall = recall_score(y_test, predictions)\n",
    "print(\"recall: %.3f\" % (recall))\n",
    "precision = precision_score(y_test, predictions)\n",
    "print(\"precision: %.3f\" % (precision))"
   ]
  },
  {
   "cell_type": "code",
   "execution_count": 29,
   "metadata": {},
   "outputs": [
    {
     "data": {
      "image/png": "[encoded data removed]",
      "text/plain": [
       "<matplotlib.figure.Figure at 0x239d2630fd0>"
      ]
     },
     "metadata": {
      "needs_background": "light"
     },
     "output_type": "display_data"
    }
   ],
   "source": [
    "plot_curve_roc(neigh,X_test,y_test)"
   ]
  },
  {
   "cell_type": "markdown",
   "metadata": {},
   "source": [
    "### XGBoost model"
   ]
  },
  {
   "cell_type": "code",
   "execution_count": 30,
   "metadata": {},
   "outputs": [],
   "source": [
    "model = XGBClassifier(random_state=0)"
   ]
  },
  {
   "cell_type": "code",
   "execution_count": 31,
   "metadata": {},
   "outputs": [
    {
     "data": {
      "text/plain": [
       "XGBClassifier(base_score=0.5, booster=None, colsample_bylevel=1,\n",
       "              colsample_bynode=1, colsample_bytree=1, gamma=0, gpu_id=-1,\n",
       "              importance_type='gain', interaction_constraints=None,\n",
       "              learning_rate=0.300000012, max_delta_step=0, max_depth=6,\n",
       "              min_child_weight=1, missing=nan, monotone_constraints=None,\n",
       "              n_estimators=100, n_jobs=0, num_parallel_tree=1,\n",
       "              objective='binary:logistic', random_state=0, reg_alpha=0,\n",
       "              reg_lambda=1, scale_pos_weight=1, subsample=1, tree_method=None,\n",
       "              validate_parameters=False, verbosity=None)"
      ]
     },
     "execution_count": 31,
     "metadata": {},
     "output_type": "execute_result"
    }
   ],
   "source": [
    "model.fit(X_trainup, y_trainup)"
   ]
  },
  {
   "cell_type": "code",
   "execution_count": 32,
   "metadata": {},
   "outputs": [],
   "source": [
    "y_pred = model.predict(X_test)\n",
    "predictions = [round(value) for value in y_pred]"
   ]
  },
  {
   "cell_type": "code",
   "execution_count": 33,
   "metadata": {},
   "outputs": [
    {
     "data": {
      "text/plain": [
       "array([[27159,    71],\n",
       "       [   23,     4]], dtype=int64)"
      ]
     },
     "execution_count": 33,
     "metadata": {},
     "output_type": "execute_result"
    }
   ],
   "source": [
    "confusion_matrix(y_test, predictions)"
   ]
  },
  {
   "cell_type": "code",
   "execution_count": 34,
   "metadata": {},
   "outputs": [
    {
     "name": "stdout",
     "output_type": "stream",
     "text": [
      "Accuracy: 0.997\n",
      "AUC: 0.573\n",
      "F1-score: 0.078\n",
      "recall: 0.148\n",
      "precision: 0.053\n"
     ]
    }
   ],
   "source": [
    "accuracy = accuracy_score(y_test, predictions)\n",
    "print(\"Accuracy: %.3f\" % (accuracy))\n",
    "auc = roc_auc_score(y_test, predictions)\n",
    "print(\"AUC: %.3f\" % (auc))\n",
    "F1=f1_score(y_test, predictions)\n",
    "print(\"F1-score: %.3f\" % (F1))\n",
    "recall = recall_score(y_test, predictions)\n",
    "print(\"recall: %.3f\" % (recall ))\n",
    "precision = precision_score(y_test, predictions)\n",
    "print(\"precision: %.3f\" % (precision))"
   ]
  },
  {
   "cell_type": "code",
   "execution_count": 35,
   "metadata": {},
   "outputs": [
    {
     "data": {
      "image/png": "[encoded data removed]",
      "text/plain": [
       "<matplotlib.figure.Figure at 0x239d53a6828>"
      ]
     },
     "metadata": {
      "needs_background": "light"
     },
     "output_type": "display_data"
    }
   ],
   "source": [
    "plot_curve_roc(model,X_test,y_test)"
   ]
  },
  {
   "cell_type": "markdown",
   "metadata": {
    "collapsed": true
   },
   "source": [
    "## Gridsearch and Cross-validation"
   ]
  },
  {
   "cell_type": "markdown",
   "metadata": {},
   "source": [
    "<font size=\"3\"><div style=\"text-align: justify\">XGBoost model had the best performance between the considered models with a F1-score equal to 0.078. The remaining models did not have a good performance regarding the evaluation metric. However, this is not a good fitting result to use this model to predict.</div></font>  \n",
    "<font size=\"3\"><div style=\"text-align: justify\"> The cross-validation and grid search processes are often used to evaluate the dependency between the results and the sample used to fit the model and to optimize the hyperparameters in the model definition, respectively. Both techniques were executed in Sagemaker; nonetheless, given the low representativity in the minority class, there is a high variability in the cross-validation results trough the different folds. Added to this, the fitting model using the optimized parameters found in the grid search execution does not enhance the f1-score performance; it is important to bear in mind that there is a cross-validation process immersed in this technique which can affect the results given the imbalanced classes.</div></font>"
   ]
  },
  {
   "cell_type": "markdown",
   "metadata": {},
   "source": [
    "### Cross-validation"
   ]
  },
  {
   "cell_type": "code",
   "execution_count": 36,
   "metadata": {},
   "outputs": [
    {
     "name": "stdout",
     "output_type": "stream",
     "text": [
      "1\n",
      "[[26966   147]\n",
      " [   18     4]]\n",
      "0.046242774566473986\n",
      "2\n",
      "[[24170   159]\n",
      " [   15     6]]\n",
      "0.06451612903225805\n",
      "3\n",
      "[[24472    87]\n",
      " [   16     5]]\n",
      "0.08849557522123892\n",
      "4\n",
      "[[23946   349]\n",
      " [   18     3]]\n",
      "0.016085790884718495\n",
      "5\n",
      "[[24023    69]\n",
      " [   18     3]]\n",
      "0.06451612903225806\n"
     ]
    }
   ],
   "source": [
    "clf_xgb = XGBClassifier(objective = 'binary:logistic')\n",
    "varx=['attribute1','attribute2','attribute3','attribute4',\n",
    "        'attribute5','attribute6','attribute7','attribute8',\n",
    "        'attribute9','day']\n",
    "\n",
    "\n",
    "numFolds = 10\n",
    "skf = StratifiedKFold(n_splits=5)\n",
    "skf.get_n_splits(X_fail, y_fail)\n",
    "\n",
    "i=0\n",
    "for train_index, test_index in skf.split(X_fail, y_fail):\n",
    "    i = i+1\n",
    "    print(i)\n",
    "    X_train, X_test = df[df['device'].isin([X_fail[j] for j in train_index])][varx], df[df['device'].isin([X_fail[j] for j in test_index])][varx]\n",
    "    y_train, y_test = df[df['device'].isin([X_fail[j] for j in train_index])]['failure'], df[df['device'].isin([X_fail[j] for j in test_index])]['failure']\n",
    "    oversample = SMOTE()\n",
    "    X_trainup, y_trainup = oversample.fit_resample(X_train, y_train)\n",
    "    clf_xgb.fit(X_trainup, y_trainup)\n",
    "    \n",
    "    y_pred = clf_xgb.predict(X_test)\n",
    "    predictions = [round(value) for value in y_pred]\n",
    "    print(confusion_matrix(y_test, predictions))\n",
    "    score1 = f1_score(y_test, predictions)\n",
    "    print(score1)  "
   ]
  },
  {
   "cell_type": "code",
   "execution_count": 41,
   "metadata": {},
   "outputs": [
    {
     "name": "stdout",
     "output_type": "stream",
     "text": [
      "Mean F1-score for cross-valiation: 0.0500\n"
     ]
    }
   ],
   "source": [
    "print(\"Mean F1-score for cross-valiation: %.4f\" % ((0.04+0.06+0.08+0.+0.01+0.06)/5))"
   ]
  },
  {
   "cell_type": "markdown",
   "metadata": {},
   "source": [
    "### Gridsearch"
   ]
  },
  {
   "cell_type": "code",
   "execution_count": 41,
   "metadata": {},
   "outputs": [],
   "source": [
    "from sklearn.metrics import f1_score\n",
    "clf_xgb = XGBClassifier(objective = 'binary:logistic')\n",
    "from sklearn.metrics import fbeta_score, make_scorer\n",
    "f1_scorer = make_scorer(f1_score)\n",
    "param_dist = {'n_estimators': [100,200,300],\n",
    "              'learning_rate': [0.2,0.3,0.4],\n",
    "              'max_depth': [5, 6, 7]}\n",
    "\n",
    "clf =  GridSearchCV(clf_xgb, param_grid = param_dist, cv=2, scoring = 'accuracy',verbose=10)\n",
    "clf.fit(X_trainup, list(y_trainup))"
   ]
  },
  {
   "cell_type": "code",
   "execution_count": 69,
   "metadata": {},
   "outputs": [
    {
     "data": {
      "text/plain": [
       "(0.981839082884232,\n",
       " {'learning_rate': 0.4, 'max_depth': 6, 'n_estimators': 300})"
      ]
     },
     "execution_count": 69,
     "metadata": {},
     "output_type": "execute_result"
    }
   ],
   "source": [
    "clf.best_score_, clf.best_params_"
   ]
  },
  {
   "cell_type": "code",
   "execution_count": 38,
   "metadata": {},
   "outputs": [
    {
     "data": {
      "text/plain": [
       "XGBClassifier(base_score=0.5, booster=None, colsample_bylevel=1,\n",
       "              colsample_bynode=1, colsample_bytree=1, gamma=0, gpu_id=-1,\n",
       "              importance_type='gain', interaction_constraints=None,\n",
       "              learning_rate=0.4, max_delta_step=0, max_depth=6,\n",
       "              min_child_weight=1, missing=nan, monotone_constraints=None,\n",
       "              n_estimators=300, n_jobs=0, num_parallel_tree=1,\n",
       "              objective='binary:logistic', random_state=0, reg_alpha=0,\n",
       "              reg_lambda=1, scale_pos_weight=1, subsample=1, tree_method=None,\n",
       "              validate_parameters=False, verbosity=None)"
      ]
     },
     "execution_count": 38,
     "metadata": {},
     "output_type": "execute_result"
    }
   ],
   "source": [
    "#learning_rate = 0.3, max_depth= 5, n_estimators= 300\n",
    "model_tunned = XGBClassifier(learning_rate = 0.4, max_depth= 6, n_estimators= 300,random_state=0)\n",
    "model_tunned.fit(X_trainup, y_trainup)"
   ]
  },
  {
   "cell_type": "code",
   "execution_count": 39,
   "metadata": {},
   "outputs": [
    {
     "data": {
      "text/plain": [
       "array([[24018,    74],\n",
       "       [   18,     3]], dtype=int64)"
      ]
     },
     "execution_count": 39,
     "metadata": {},
     "output_type": "execute_result"
    }
   ],
   "source": [
    "y_pred_tunned = model_tunned.predict(X_test)\n",
    "predictions_tunned = [round(value) for value in y_pred_tunned]\n",
    "confusion_matrix(y_test, predictions_tunned)"
   ]
  },
  {
   "cell_type": "code",
   "execution_count": 40,
   "metadata": {},
   "outputs": [
    {
     "name": "stdout",
     "output_type": "stream",
     "text": [
      "Accuracy: 1.00\n",
      "AUC: 0.57\n",
      "F1-score: 0.061\n",
      "recall: 0.14\n",
      "precision: 0.04\n"
     ]
    }
   ],
   "source": [
    "accuracy = accuracy_score(y_test, predictions_tunned)\n",
    "print(\"Accuracy: %.2f\" % (accuracy ))\n",
    "auc = roc_auc_score(y_test, predictions_tunned)\n",
    "print(\"AUC: %.2f\" % (auc))\n",
    "F1=f1_score(y_test, predictions_tunned)\n",
    "print(\"F1-score: %.3f\" % (F1 ))\n",
    "recall = recall_score(y_test, predictions_tunned)\n",
    "print(\"recall: %.2f\" % (recall))\n",
    "precision = precision_score(y_test, predictions_tunned)\n",
    "print(\"precision: %.2f\" % (precision))"
   ]
  },
  {
   "cell_type": "markdown",
   "metadata": {
    "collapsed": true
   },
   "source": [
    "# Results"
   ]
  },
  {
   "cell_type": "markdown",
   "metadata": {},
   "source": [
    "<font size=\"3\"><div style=\"text-align: justify\"> The dataset has an imbalanced distribution in the classes; to handle this, a Smote technique was executed to balance it. After a brief EDA process, a weak visual relation between the features and the dependent variable was identified. In the methodology section, the XGboost model was the one with the best performance; however, it just achieved an f1-score equal to 0.123 which is not good enough for using this model for the prediction task. </div></font>\n",
    "\n",
    "<font size=\"3\"><div style=\"text-align: left\">   \n",
    "To enhance the results of the model three strategies can be developed:\n",
    "    \n",
    "1. Consider new features or add new information to the dataset, such as device photos or a brief description of the device status\n",
    "    given by the analyst.\n",
    "    \n",
    "2. Gather more device recordings to increase the dataset size, probably, the features already used can help to classified the\n",
    "    data in the right way but as we do not have much information about failed device behavior, the model is not able to\n",
    "    identify clearly which class the readout belongs.\n",
    "    \n",
    "3. Improve the model performance with an ensemble method of models. As soon as each model increases the stand-alone\n",
    "    performance, a weighted approach from the different models' results could be performed to have a more accurate fitting, as\n",
    "    it is presented in [ensembled methods](https://towardsdatascience.com/ensemble-methods-bagging-boosting-and-stacking-c9214a10a205).</div></font>  \n"
   ]
  },
  {
   "cell_type": "markdown",
   "metadata": {},
   "source": [
    "# References\n",
    "\n"
   ]
  }
 ],
 "metadata": {
  "kernelspec": {
   "display_name": "Python 3",
   "language": "python",
   "name": "python3"
  },
  "language_info": {
   "codemirror_mode": {
    "name": "ipython",
    "version": 3
   },
   "file_extension": ".py",
   "mimetype": "text/x-python",
   "name": "python",
   "nbconvert_exporter": "python",
   "pygments_lexer": "ipython3",
   "version": "3.6.3"
  }
 },
 "nbformat": 4,
 "nbformat_minor": 2
}
